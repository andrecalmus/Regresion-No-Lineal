{
 "cells": [
  {
   "cell_type": "code",
   "execution_count": null,
   "id": "04e662b4",
   "metadata": {},
   "outputs": [],
   "source": [
    "#Cargamos librerias\n",
    "import numpy as np\n",
    "import pandas as pd\n",
    "import matplotlib.pyplot as plt\n",
    "import scipy.special as special\n",
    "from scipy.optimize import curve_fit\n",
    "import seaborn as sns\n",
    "from sklearn.metrics import r2_score"
   ]
  },
  {
   "cell_type": "code",
   "execution_count": null,
   "id": "42313e87",
   "metadata": {},
   "outputs": [],
   "source": [
    "df = pd.read_csv('DataAnalytics4.csv')\n",
    "df = df.drop(columns=['fecha', 'administrador', 'usuario'])\n"
   ]
  },
  {
   "cell_type": "code",
   "execution_count": null,
   "id": "df70e4d4",
   "metadata": {},
   "outputs": [],
   "source": [
    "c_objetivo = df['presionó botón correcto']"
   ]
  },
  {
   "cell_type": "code",
   "execution_count": null,
   "id": "06a98b06",
   "metadata": {},
   "outputs": [],
   "source": [
    "corr_Factors = df.corr()\n",
    "corr_Factors"
   ]
  },
  {
   "cell_type": "code",
   "execution_count": null,
   "id": "0a6a639b",
   "metadata": {},
   "outputs": [],
   "source": [
    "corr_Factors= abs(corr_Factors)\n",
    "corr_Factors"
   ]
  },
  {
   "cell_type": "code",
   "execution_count": null,
   "id": "624f3753",
   "metadata": {},
   "outputs": [],
   "source": [
    "fig, ax = plt.subplots(figsize=(20, 15))\n",
    "cax = ax.matshow(corr_Factors, cmap=\"Blues\")\n",
    "fig.colorbar(cax)\n",
    "\n",
    "# Añadir anotaciones manualmente\n",
    "for i in range(corr_Factors.shape[0]):\n",
    "    for j in range(corr_Factors.shape[1]):\n",
    "        ax.text(j, i, f\"{corr_Factors.iloc[i, j]:.2f}\", \n",
    "               ha=\"center\", va=\"center\", fontsize=20)\n",
    "\n",
    "plt.xticks(range(len(corr_Factors.columns)), corr_Factors.columns, rotation=90, fontsize=12)\n",
    "plt.yticks(range(len(corr_Factors.index)), corr_Factors.index, fontsize=12)\n",
    "plt.show()"
   ]
  },
  {
   "cell_type": "markdown",
   "id": "607902f3",
   "metadata": {},
   "source": [
    "***Modelos lineales***"
   ]
  },
  {
   "cell_type": "code",
   "execution_count": null,
   "id": "c99acd34",
   "metadata": {},
   "outputs": [],
   "source": [
    "#Graficamos todas las dispersiones entre todas las variables\n",
    "sns.pairplot(df)"
   ]
  },
  {
   "cell_type": "code",
   "execution_count": null,
   "id": "54dfcf10",
   "metadata": {},
   "outputs": [],
   "source": [
    "# Elegimos la columna objetivo\n",
    "objetivo = 'presionó botón correcto'  # Cambia esto al nombre de tu variable objetivo\n",
    "\n",
    "# Seleccionamos solo columnas numéricas\n",
    "df_numericas = df.select_dtypes(include=['number'])\n",
    "\n",
    "# Calculamos la matriz de correlación\n",
    "correlaciones = df_numericas.corr()"
   ]
  },
  {
   "cell_type": "markdown",
   "id": "28d17aed",
   "metadata": {},
   "source": [
    "***Lineal simple***"
   ]
  },
  {
   "cell_type": "code",
   "execution_count": null,
   "id": "630d8dd1",
   "metadata": {},
   "outputs": [],
   "source": [
    "# Ordenamos las correlaciones del objetivo\n",
    "mejor_variable = correlaciones[objetivo].drop(labels=[objetivo]).abs().idxmax()\n",
    "mejor_correlacion = correlaciones.loc[mejor_variable, objetivo]\n",
    "\n",
    "print(f\"La mejor variable correlacionada con {objetivo} es {mejor_variable} con una correlación de {mejor_correlacion:.2f}\")"
   ]
  },
  {
   "cell_type": "markdown",
   "id": "59293cec",
   "metadata": {},
   "source": [
    "***No lineal***"
   ]
  },
  {
   "cell_type": "code",
   "execution_count": null,
   "id": "0f451a43",
   "metadata": {},
   "outputs": [],
   "source": [
    "from sklearn.preprocessing import PolynomialFeatures\n",
    "from sklearn.linear_model import LinearRegression\n",
    "from sklearn.metrics import r2_score\n",
    "\n",
    "# Datos\n",
    "X = df[[mejor_variable]].values\n",
    "y = df[objetivo].values\n",
    "\n",
    "# Ajustamos un modelo polinomial de grado 2\n",
    "poly = PolynomialFeatures(degree=2)\n",
    "X_poly = poly.fit_transform(X)\n",
    "\n",
    "modelo_poly = LinearRegression()\n",
    "modelo_poly.fit(X_poly, y)\n",
    "\n",
    "# Predicciones\n",
    "y_pred_poly = modelo_poly.predict(X_poly)\n",
    "\n",
    "# Medimos qué tan bueno es el modelo\n",
    "r2_poly = r2_score(y, y_pred_poly)\n",
    "print(f\"R² del modelo polinomial de grado 2: {r2_poly:.2f}\")\n"
   ]
  },
  {
   "cell_type": "code",
   "execution_count": null,
   "id": "e3f4cbc5",
   "metadata": {},
   "outputs": [],
   "source": [
    "r2_lineal_simple = mejor_correlacion ** 2\n",
    "print(f\"R² de la correlación lineal simple: {r2_lineal_simple:.2f}\")"
   ]
  },
  {
   "cell_type": "code",
   "execution_count": null,
   "id": "db1762e5",
   "metadata": {},
   "outputs": [],
   "source": [
    "# Gráfica de dispersión\n",
    "plt.scatter(X, y, color='green')\n",
    "plt.plot(X, y_pred_poly, color='blue')\n",
    "plt.xlabel(mejor_variable)\n",
    "plt.ylabel(objetivo)\n",
    "plt.title('Ajuste polinomial de grado 2')\n",
    "plt.show()\n"
   ]
  },
  {
   "cell_type": "markdown",
   "id": "2e5e1661",
   "metadata": {},
   "source": [
    "#### Erick Osvaldo"
   ]
  },
  {
   "cell_type": "markdown",
   "id": "7c4593e8",
   "metadata": {},
   "source": [
    "variables como objetivo: “tiempo de interacción”, “botón correcto” “color presionado” y “dificultad” ,"
   ]
  },
  {
   "cell_type": "code",
   "execution_count": null,
   "id": "d8e72548",
   "metadata": {},
   "outputs": [],
   "source": [
    "df = pd.read_csv('Erick Osvaldo.csv')\n",
    "#Eliminamos la columna de fecha\n",
    "df1 = df.copy()\n",
    "df1 = df1.drop(columns=['fecha', 'administrador', 'usuario', 'juego'])\n",
    "df1.head()"
   ]
  },
  {
   "cell_type": "markdown",
   "id": "e35253ee",
   "metadata": {},
   "source": [
    "***Correlación***"
   ]
  },
  {
   "cell_type": "code",
   "execution_count": null,
   "id": "08327c91",
   "metadata": {},
   "outputs": [],
   "source": [
    "corr_FactorsEO = df1.corr()\n",
    "corr_FactorsEO"
   ]
  },
  {
   "cell_type": "code",
   "execution_count": null,
   "id": "e0703fa7",
   "metadata": {},
   "outputs": [],
   "source": [
    "corr_FactorsEO= abs(corr_FactorsEO)\n",
    "corr_FactorsEO"
   ]
  },
  {
   "cell_type": "code",
   "execution_count": null,
   "id": "d2827f45",
   "metadata": {},
   "outputs": [],
   "source": [
    "fig, ax = plt.subplots(figsize=(20, 15))\n",
    "cax = ax.matshow(corr_FactorsEO, cmap=\"Blues\")\n",
    "fig.colorbar(cax)\n",
    "\n",
    "# Añadir anotaciones manualmente\n",
    "for i in range(corr_FactorsEO.shape[0]):\n",
    "    for j in range(corr_FactorsEO.shape[1]):\n",
    "        ax.text(j, i, f\"{corr_FactorsEO.iloc[i, j]:.2f}\", \n",
    "               ha=\"center\", va=\"center\", fontsize=20)\n",
    "\n",
    "plt.xticks(range(len(corr_FactorsEO.columns)), corr_FactorsEO.columns, rotation=90, fontsize=12)\n",
    "plt.yticks(range(len(corr_FactorsEO.index)), corr_FactorsEO.index, fontsize=12)\n",
    "plt.show()"
   ]
  },
  {
   "cell_type": "markdown",
   "id": "5bf96c86",
   "metadata": {},
   "source": [
    "***Modelos no lineales para Erick Osvaldo***"
   ]
  },
  {
   "cell_type": "code",
   "execution_count": null,
   "id": "4159fec8",
   "metadata": {},
   "outputs": [],
   "source": [
    "#Graficamos todas las dispersiones entre todas las variables\n",
    "sns.pairplot(df1)"
   ]
  },
  {
   "cell_type": "markdown",
   "id": "5148eb6a",
   "metadata": {},
   "source": [
    "#### Modelo 1 (tiempo de interacción)"
   ]
  },
  {
   "cell_type": "code",
   "execution_count": null,
   "id": "e486d704",
   "metadata": {},
   "outputs": [],
   "source": [
    "#Eliminamos los datos nulos de la coumna\n",
    "EO = df1[df1['presionó botón correcto'] < 3]"
   ]
  },
  {
   "cell_type": "code",
   "execution_count": null,
   "id": "2131e56c",
   "metadata": {},
   "outputs": [],
   "source": [
    "EO"
   ]
  },
  {
   "cell_type": "code",
   "execution_count": null,
   "id": "445b36fc",
   "metadata": {},
   "outputs": [],
   "source": [
    "#Declaramos las variables dependientes e independientes para la regresión No lineal\n",
    "Vars_Indep= EO[['presionó botón correcto']]\n",
    "Var_Dep= EO['tiempo de interacción']"
   ]
  },
  {
   "cell_type": "code",
   "execution_count": null,
   "id": "84291746",
   "metadata": {},
   "outputs": [],
   "source": [
    "#Redefinimos las variables \n",
    "x= Vars_Indep\n",
    "y= Var_Dep"
   ]
  },
  {
   "cell_type": "code",
   "execution_count": null,
   "id": "ae78d205",
   "metadata": {},
   "outputs": [],
   "source": [
    "def  func1 (x, a, b, c):\n",
    "     return a*x**2 + b*x + c"
   ]
  },
  {
   "cell_type": "code",
   "execution_count": null,
   "id": "b7313f06",
   "metadata": {},
   "outputs": [],
   "source": [
    "#Ajustamos los parámetros de la función curve_fit\n",
    "parametros1, covs= curve_fit(func1, EO['presionó botón correcto'], EO['tiempo de interacción'])\n",
    "#Obtenemos los coeficientes del modelo de regresión no lineal\n",
    "parametros1"
   ]
  },
  {
   "cell_type": "code",
   "execution_count": null,
   "id": "c62c7f19",
   "metadata": {},
   "outputs": [],
   "source": [
    "# Predicciones\n",
    "y_pred1 = func1(x, *parametros1)\n",
    "#Calculamos las predicciones y reestructuramos el vector de predicciones\n",
    "y_pred1.head()"
   ]
  },
  {
   "cell_type": "code",
   "execution_count": null,
   "id": "fa1c6913",
   "metadata": {},
   "outputs": [],
   "source": [
    "#Graficamos las predicciones y los datos originales para realizar la comparación\n",
    "plt.plot(x, y, 'bo', label=\"y-original\")\n",
    "plt.plot(x, y_pred1, label=\"y-predecida con a*x**2 + b*x + c\")\n",
    "plt.xlabel('x')\n",
    "plt.ylabel('y')\n",
    "plt.legend(loc='best', fancybox=True, shadow=True)\n",
    "plt.grid(True)\n",
    "plt.show() "
   ]
  },
  {
   "cell_type": "code",
   "execution_count": null,
   "id": "ed6548aa",
   "metadata": {},
   "outputs": [],
   "source": [
    "#Calculamos el coeficiente de determinación del modelo\n",
    "R2_Modelo1 = r2_score(y, y_pred1)\n",
    "#Calculamos el coeficiente de correlación del modelo\n",
    "R = np.sqrt(R2_Modelo1) \n",
    "R2_Modelo1 "
   ]
  },
  {
   "cell_type": "code",
   "execution_count": null,
   "id": "94443f28",
   "metadata": {},
   "outputs": [],
   "source": [
    "#Calculamos el coeficiente de correlación del modelo\n",
    "R = np.sqrt(R2_Modelo1)\n",
    "R"
   ]
  },
  {
   "cell_type": "markdown",
   "id": "b7c0f774",
   "metadata": {},
   "source": [
    "Esto significa que no son dependientes una de la otra en absoluto"
   ]
  },
  {
   "cell_type": "markdown",
   "id": "5ffaee65",
   "metadata": {},
   "source": [
    "## Modelo 2 (presionó botón correcto)"
   ]
  },
  {
   "cell_type": "code",
   "execution_count": null,
   "id": "b9c24868",
   "metadata": {},
   "outputs": [],
   "source": [
    "EO = df1[df1['auto push'] != 0]"
   ]
  },
  {
   "cell_type": "code",
   "execution_count": null,
   "id": "32e65287",
   "metadata": {},
   "outputs": [],
   "source": [
    "#Declaramos las variables dependientes e independientes para la regresión No lineal\n",
    "Vars_Indep= EO[['auto push']]\n",
    "Var_Dep= df1['presionó botón correcto']"
   ]
  },
  {
   "cell_type": "code",
   "execution_count": null,
   "id": "d70f6020",
   "metadata": {},
   "outputs": [],
   "source": [
    "#Redefinimos las variables \n",
    "x= Vars_Indep\n",
    "y= Var_Dep"
   ]
  },
  {
   "cell_type": "code",
   "execution_count": null,
   "id": "08abb719",
   "metadata": {},
   "outputs": [],
   "source": [
    "def  func1 (x, a, b, c):\n",
    "     return a*x**2 + b*x + c"
   ]
  },
  {
   "cell_type": "code",
   "execution_count": null,
   "id": "e7429a31",
   "metadata": {},
   "outputs": [],
   "source": [
    "#Ajustamos los parámetros de la función curve_fit\n",
    "parametros1, covs= curve_fit(func1, EO['presionó botón correcto'], EO['auto push'])\n",
    "#Obtenemos los coeficientes del modelo de regresión no lineal\n",
    "parametros1"
   ]
  },
  {
   "cell_type": "code",
   "execution_count": null,
   "id": "eaa26752",
   "metadata": {},
   "outputs": [],
   "source": [
    "# Predicciones\n",
    "y_pred1 = func1(x, *parametros1)\n",
    "#Calculamos las predicciones y reestructuramos el vector de predicciones\n",
    "y_pred1.head()"
   ]
  },
  {
   "cell_type": "code",
   "execution_count": null,
   "id": "ecb6bebd",
   "metadata": {},
   "outputs": [],
   "source": [
    "#Graficamos las predicciones y los datos originales para realizar la comparación\n",
    "plt.plot(x, y, 'bo', label=\"y-original\")\n",
    "plt.plot(x, y_pred1, label=\"y-predecida con a*x**2 + b*x + c\")\n",
    "plt.xlabel('x')\n",
    "plt.ylabel('y')\n",
    "plt.legend(loc='best', fancybox=True, shadow=True)\n",
    "plt.grid(True)\n",
    "plt.show()"
   ]
  },
  {
   "cell_type": "code",
   "execution_count": null,
   "id": "f4070c0d",
   "metadata": {},
   "outputs": [],
   "source": [
    "#Calculamos el coeficiente de determinación del modelo\n",
    "R2_Modelo1 = r2_score(y, y_pred1)\n",
    "#Calculamos el coeficiente de correlación del modelo\n",
    "R = np.sqrt(R2_Modelo1) \n",
    "R2_Modelo1 "
   ]
  },
  {
   "cell_type": "code",
   "execution_count": null,
   "id": "45b10a51",
   "metadata": {},
   "outputs": [],
   "source": [
    "#Calculamos el coeficiente de correlación del modelo\n",
    "R = np.sqrt(R2_Modelo1)\n",
    "R"
   ]
  },
  {
   "cell_type": "markdown",
   "id": "3ffe1f22",
   "metadata": {},
   "source": [
    "## Modelo 3 (color presionado)"
   ]
  },
  {
   "cell_type": "code",
   "execution_count": null,
   "id": "0ae70a20",
   "metadata": {},
   "outputs": [],
   "source": [
    "#Eliminamos los datos nulos de la coumna\n",
    "EO = df1[df1['color presionado'] != 5]\n",
    "EO = df1[df1['tiempo de interacción'] != 999.0]"
   ]
  },
  {
   "cell_type": "code",
   "execution_count": null,
   "id": "ed43d8a8",
   "metadata": {},
   "outputs": [],
   "source": [
    "#Declaramos las variables dependientes e independientes para la regresión No lineal\n",
    "Vars_Indep= EO[['tiempo de interacción']]\n",
    "Var_Dep= EO['color presionado']"
   ]
  },
  {
   "cell_type": "code",
   "execution_count": null,
   "id": "835bd6f7",
   "metadata": {},
   "outputs": [],
   "source": [
    "#Redefinimos las variables \n",
    "x= Vars_Indep\n",
    "y= Var_Dep"
   ]
  },
  {
   "cell_type": "code",
   "execution_count": null,
   "id": "8c924c95",
   "metadata": {},
   "outputs": [],
   "source": [
    "def  func1 (x, a, b, c):\n",
    "     return a*x**2 + b*x + c"
   ]
  },
  {
   "cell_type": "code",
   "execution_count": null,
   "id": "823afe27",
   "metadata": {},
   "outputs": [],
   "source": [
    "#Ajustamos los parámetros de la función curve_fit\n",
    "parametros1, covs= curve_fit(func1, EO['tiempo de interacción'], EO['color presionado'])\n",
    "#Obtenemos los coeficientes del modelo de regresión no lineal\n",
    "parametros1"
   ]
  },
  {
   "cell_type": "code",
   "execution_count": null,
   "id": "0f8406f4",
   "metadata": {},
   "outputs": [],
   "source": [
    "# Predicciones\n",
    "y_pred1 = func1(x, *parametros1)\n",
    "#Calculamos las predicciones y reestructuramos el vector de predicciones\n",
    "y_pred1.head()"
   ]
  },
  {
   "cell_type": "code",
   "execution_count": null,
   "id": "478700b1",
   "metadata": {},
   "outputs": [],
   "source": [
    "#Graficamos las predicciones y los datos originales para realizar la comparación\n",
    "plt.plot(x, y, 'bo', label=\"y-original\")\n",
    "plt.plot(x, y_pred1, label=\"y-predecida con a*x**2 + b*x + c\")\n",
    "plt.xlabel('x')\n",
    "plt.ylabel('y')\n",
    "plt.legend(loc='best', fancybox=True, shadow=True)\n",
    "plt.grid(True)\n",
    "plt.show() "
   ]
  },
  {
   "cell_type": "code",
   "execution_count": null,
   "id": "56b6770f",
   "metadata": {},
   "outputs": [],
   "source": [
    "#Calculamos el coeficiente de determinación del modelo\n",
    "R2_Modelo1 = r2_score(y, y_pred1)\n",
    "#Calculamos el coeficiente de correlación del modelo\n",
    "R = np.sqrt(R2_Modelo1) \n",
    "R2_Modelo1 "
   ]
  },
  {
   "cell_type": "code",
   "execution_count": null,
   "id": "e82c83f9",
   "metadata": {},
   "outputs": [],
   "source": [
    "#Calculamos el coeficiente de correlación del modelo\n",
    "R = np.sqrt(R2_Modelo1)\n",
    "R"
   ]
  },
  {
   "cell_type": "markdown",
   "id": "e9d06b69",
   "metadata": {},
   "source": [
    "## Modelo 4 (dificultad)"
   ]
  },
  {
   "cell_type": "markdown",
   "id": "d3694bfa",
   "metadata": {},
   "source": [
    "De esta coolumna no es necesario borrar los datos porque no sabemos con exactitud que datos son los nulos"
   ]
  },
  {
   "cell_type": "code",
   "execution_count": null,
   "id": "7f9f79c2",
   "metadata": {},
   "outputs": [],
   "source": [
    "#Declaramos las variables dependientes e independientes para la regresión No lineal\n",
    "Vars_Indep= df1['tiempo de lección']\n",
    "Var_Dep= df1['dificultad']"
   ]
  },
  {
   "cell_type": "code",
   "execution_count": null,
   "id": "939eb068",
   "metadata": {},
   "outputs": [],
   "source": [
    "#Redefinimos las variables \n",
    "x= Vars_Indep\n",
    "y= Var_Dep"
   ]
  },
  {
   "cell_type": "code",
   "execution_count": null,
   "id": "258f60ae",
   "metadata": {},
   "outputs": [],
   "source": [
    "def  func1 (x, a, b, c):\n",
    "     return a*x**2 + b*x + c"
   ]
  },
  {
   "cell_type": "code",
   "execution_count": null,
   "id": "5cfa3347",
   "metadata": {},
   "outputs": [],
   "source": [
    "#Ajustamos los parámetros de la función curve_fit\n",
    "parametros1, covs= curve_fit(func1, df1['presionó botón correcto'], df1['tiempo de lección'])\n",
    "#Obtenemos los coeficientes del modelo de regresión no lineal\n",
    "parametros1"
   ]
  },
  {
   "cell_type": "code",
   "execution_count": null,
   "id": "9f805b1b",
   "metadata": {},
   "outputs": [],
   "source": [
    "# Predicciones\n",
    "y_pred1 = func1(x, *parametros1)\n",
    "#Calculamos las predicciones y reestructuramos el vector de predicciones\n",
    "y_pred1.head()"
   ]
  },
  {
   "cell_type": "code",
   "execution_count": null,
   "id": "16ef2829",
   "metadata": {},
   "outputs": [],
   "source": [
    "#Graficamos las predicciones y los datos originales para realizar la comparación\n",
    "plt.plot(x, y, 'bo', label=\"y-original\")\n",
    "plt.plot(x, y_pred1, label=\"y-predecida con a*x**2 + b*x + c\")\n",
    "plt.xlabel('x')\n",
    "plt.ylabel('y')\n",
    "plt.legend(loc='best', fancybox=True, shadow=True)\n",
    "plt.grid(True)\n",
    "plt.show() "
   ]
  },
  {
   "cell_type": "code",
   "execution_count": null,
   "id": "199f850e",
   "metadata": {},
   "outputs": [],
   "source": [
    "#Calculamos el coeficiente de determinación del modelo\n",
    "R2_Modelo1 = r2_score(y, y_pred1)\n",
    "#Calculamos el coeficiente de correlación del modelo\n",
    "R = np.sqrt(R2_Modelo1) \n",
    "R2_Modelo1 "
   ]
  },
  {
   "cell_type": "code",
   "execution_count": null,
   "id": "f2da8f04",
   "metadata": {},
   "outputs": [],
   "source": [
    "#Calculamos el coeficiente de correlación del modelo\n",
    "R = np.sqrt(R2_Modelo1)\n",
    "R"
   ]
  },
  {
   "cell_type": "markdown",
   "id": "3a3e3192",
   "metadata": {},
   "source": [
    "#### Esmeralda"
   ]
  },
  {
   "cell_type": "code",
   "execution_count": null,
   "id": "637bd5ef",
   "metadata": {},
   "outputs": [],
   "source": [
    "df = pd.read_csv('Esmeralda.csv')\n",
    "#Eliminamos la columna de fecha\n",
    "df1 = df.copy()\n",
    "df1 = df1.drop(columns=['usuario', 'juego', 'Unnamed: 0'])\n",
    "df1.head()"
   ]
  },
  {
   "cell_type": "markdown",
   "id": "651078cb",
   "metadata": {},
   "source": [
    "***Correlación***"
   ]
  },
  {
   "cell_type": "code",
   "execution_count": null,
   "id": "e3ef468f",
   "metadata": {},
   "outputs": [],
   "source": [
    "corr_FactorsEO = df1.corr()\n",
    "corr_FactorsEO"
   ]
  },
  {
   "cell_type": "code",
   "execution_count": null,
   "id": "04cb3f52",
   "metadata": {},
   "outputs": [],
   "source": [
    "corr_FactorsEO= abs(corr_FactorsEO)\n",
    "corr_FactorsEO"
   ]
  },
  {
   "cell_type": "code",
   "execution_count": null,
   "id": "cee38f95",
   "metadata": {},
   "outputs": [],
   "source": [
    "fig, ax = plt.subplots(figsize=(20, 15))\n",
    "cax = ax.matshow(corr_FactorsEO, cmap=\"Blues\")\n",
    "fig.colorbar(cax)\n",
    "\n",
    "# Añadir anotaciones manualmente\n",
    "for i in range(corr_FactorsEO.shape[0]):\n",
    "    for j in range(corr_FactorsEO.shape[1]):\n",
    "        ax.text(j, i, f\"{corr_FactorsEO.iloc[i, j]:.2f}\", \n",
    "               ha=\"center\", va=\"center\", fontsize=20)\n",
    "\n",
    "plt.xticks(range(len(corr_FactorsEO.columns)), corr_FactorsEO.columns, rotation=90, fontsize=12)\n",
    "plt.yticks(range(len(corr_FactorsEO.index)), corr_FactorsEO.index, fontsize=12)\n",
    "plt.show()"
   ]
  },
  {
   "cell_type": "markdown",
   "id": "212a4511",
   "metadata": {},
   "source": [
    "***Modelos no lineales para Esmeralda***"
   ]
  },
  {
   "cell_type": "code",
   "execution_count": null,
   "id": "26f46cae",
   "metadata": {},
   "outputs": [],
   "source": [
    "#Graficamos todas las dispersiones entre todas las variables\n",
    "sns.pairplot(df1)"
   ]
  },
  {
   "cell_type": "markdown",
   "id": "0cbc2c01",
   "metadata": {},
   "source": [
    "#### Modelo 1 (tiempo de interacción)"
   ]
  },
  {
   "cell_type": "code",
   "execution_count": null,
   "id": "92279d70",
   "metadata": {},
   "outputs": [],
   "source": [
    "#Eliminamos los datos nulos de la coumna\n",
    "ES = df1[df1['presionó botón correcto'] < 3]"
   ]
  },
  {
   "cell_type": "code",
   "execution_count": null,
   "id": "cde660f8",
   "metadata": {},
   "outputs": [],
   "source": [
    "ES"
   ]
  },
  {
   "cell_type": "code",
   "execution_count": null,
   "id": "81499f53",
   "metadata": {},
   "outputs": [],
   "source": [
    "#Declaramos las variables dependientes e independientes para la regresión No lineal\n",
    "Vars_Indep= ES[['presionó botón correcto']]\n",
    "Var_Dep= ES['tiempo de interacción']"
   ]
  },
  {
   "cell_type": "code",
   "execution_count": null,
   "id": "ed31f86d",
   "metadata": {},
   "outputs": [],
   "source": [
    "#Redefinimos las variables \n",
    "x= Vars_Indep\n",
    "y= Var_Dep"
   ]
  },
  {
   "cell_type": "code",
   "execution_count": null,
   "id": "7fa0b829",
   "metadata": {},
   "outputs": [],
   "source": [
    "def  func1 (x, a, b, c):\n",
    "     return a*x**2 + b*x + c"
   ]
  },
  {
   "cell_type": "code",
   "execution_count": null,
   "id": "7eef968e",
   "metadata": {},
   "outputs": [],
   "source": [
    "#Ajustamos los parámetros de la función curve_fit\n",
    "parametros1, covs= curve_fit(func1, ES['presionó botón correcto'], ES['tiempo de interacción'])\n",
    "#Obtenemos los coeficientes del modelo de regresión no lineal\n",
    "parametros1"
   ]
  },
  {
   "cell_type": "code",
   "execution_count": null,
   "id": "51352ae6",
   "metadata": {},
   "outputs": [],
   "source": [
    "# Predicciones\n",
    "y_pred1 = func1(x, *parametros1)\n",
    "#Calculamos las predicciones y reestructuramos el vector de predicciones\n",
    "y_pred1.head()"
   ]
  },
  {
   "cell_type": "code",
   "execution_count": null,
   "id": "f820db37",
   "metadata": {},
   "outputs": [],
   "source": [
    "#Graficamos las predicciones y los datos originales para realizar la comparación\n",
    "plt.plot(x, y, 'bo', label=\"y-original\")\n",
    "plt.plot(x, y_pred1, label=\"y-predecida con a*x**2 + b*x + c\")\n",
    "plt.xlabel('x')\n",
    "plt.ylabel('y')\n",
    "plt.legend(loc='best', fancybox=True, shadow=True)\n",
    "plt.grid(True)\n",
    "plt.show() "
   ]
  },
  {
   "cell_type": "code",
   "execution_count": null,
   "id": "10ec327f",
   "metadata": {},
   "outputs": [],
   "source": [
    "#Calculamos el coeficiente de determinación del modelo\n",
    "R2_Modelo1 = r2_score(y, y_pred1)\n",
    "#Calculamos el coeficiente de correlación del modelo\n",
    "R = np.sqrt(R2_Modelo1) \n",
    "R2_Modelo1 "
   ]
  },
  {
   "cell_type": "code",
   "execution_count": null,
   "id": "9b525614",
   "metadata": {},
   "outputs": [],
   "source": [
    "#Calculamos el coeficiente de correlación del modelo\n",
    "R = np.sqrt(R2_Modelo1)\n",
    "R"
   ]
  },
  {
   "cell_type": "markdown",
   "id": "b013a912",
   "metadata": {},
   "source": [
    "#### Modelo 2 (presionó botón correcto)"
   ]
  },
  {
   "cell_type": "code",
   "execution_count": null,
   "id": "b3f6b5cb",
   "metadata": {},
   "outputs": [],
   "source": [
    "ES = df1[df1['presionó botón correcto'] != 3]"
   ]
  },
  {
   "cell_type": "code",
   "execution_count": null,
   "id": "e5db2b99",
   "metadata": {},
   "outputs": [],
   "source": [
    "#Declaramos las variables dependientes e independientes para la regresión No lineal\n",
    "Vars_Indep= ES[['color presionado']]\n",
    "Var_Dep= ES['presionó botón correcto']"
   ]
  },
  {
   "cell_type": "code",
   "execution_count": null,
   "id": "e5fb49a3",
   "metadata": {},
   "outputs": [],
   "source": [
    "#Redefinimos las variables \n",
    "x= Vars_Indep\n",
    "y= Var_Dep"
   ]
  },
  {
   "cell_type": "code",
   "execution_count": null,
   "id": "fb1deb31",
   "metadata": {},
   "outputs": [],
   "source": [
    "def  func1 (x, a, b, c):\n",
    "     return a*x**2 + b*x + c"
   ]
  },
  {
   "cell_type": "code",
   "execution_count": null,
   "id": "b84ecef8",
   "metadata": {},
   "outputs": [],
   "source": [
    "#Ajustamos los parámetros de la función curve_fit\n",
    "parametros1, covs= curve_fit(func1, ES['color presionado'], ES['presionó botón correcto'])\n",
    "#Obtenemos los coeficientes del modelo de regresión no lineal\n",
    "parametros1"
   ]
  },
  {
   "cell_type": "code",
   "execution_count": null,
   "id": "91a2931b",
   "metadata": {},
   "outputs": [],
   "source": [
    "# Predicciones\n",
    "y_pred1 = func1(x, *parametros1)\n",
    "#Calculamos las predicciones y reestructuramos el vector de predicciones\n",
    "y_pred1.head()"
   ]
  },
  {
   "cell_type": "code",
   "execution_count": null,
   "id": "4281a245",
   "metadata": {},
   "outputs": [],
   "source": [
    "#Graficamos las predicciones y los datos originales para realizar la comparación\n",
    "plt.plot(x, y, 'bo', label=\"y-original\")\n",
    "plt.plot(x, y_pred1, label=\"y-predecida con a*x**2 + b*x + c\")\n",
    "plt.xlabel('x')\n",
    "plt.ylabel('y')\n",
    "plt.legend(loc='best', fancybox=True, shadow=True)\n",
    "plt.grid(True)\n",
    "plt.show()"
   ]
  },
  {
   "cell_type": "code",
   "execution_count": null,
   "id": "204ef09e",
   "metadata": {},
   "outputs": [],
   "source": [
    "#Calculamos el coeficiente de determinación del modelo\n",
    "R2_Modelo1 = r2_score(y, y_pred1)\n",
    "#Calculamos el coeficiente de correlación del modelo\n",
    "R = np.sqrt(R2_Modelo1) \n",
    "R2_Modelo1 "
   ]
  },
  {
   "cell_type": "code",
   "execution_count": null,
   "id": "823452e8",
   "metadata": {},
   "outputs": [],
   "source": [
    "#Calculamos el coeficiente de correlación del modelo\n",
    "R = np.sqrt(R2_Modelo1)\n",
    "R"
   ]
  },
  {
   "cell_type": "markdown",
   "id": "6ec57ba2",
   "metadata": {},
   "source": [
    "#### Modelo 3 (color presionado)"
   ]
  },
  {
   "cell_type": "code",
   "execution_count": null,
   "id": "a095c6f7",
   "metadata": {},
   "outputs": [],
   "source": [
    "#Eliminamos los datos nulos de la coumna\n",
    "ES = df1[df1['color presionado'] != 5] \n",
    "ES = df1[df1['tiempo de interacción'] != 999.0]"
   ]
  },
  {
   "cell_type": "code",
   "execution_count": null,
   "id": "b4fc97ea",
   "metadata": {},
   "outputs": [],
   "source": [
    "#Declaramos las variables dependientes e independientes para la regresión No lineal\n",
    "Vars_Indep= ES[['tiempo de interacción']]\n",
    "Var_Dep= ES['color presionado']"
   ]
  },
  {
   "cell_type": "code",
   "execution_count": null,
   "id": "55de2f75",
   "metadata": {},
   "outputs": [],
   "source": [
    "#Redefinimos las variables \n",
    "x= Vars_Indep\n",
    "y= Var_Dep"
   ]
  },
  {
   "cell_type": "code",
   "execution_count": null,
   "id": "7ed527b9",
   "metadata": {},
   "outputs": [],
   "source": [
    "def  func1 (x, a, b, c):\n",
    "     return a*x**2 + b*x + c"
   ]
  },
  {
   "cell_type": "code",
   "execution_count": null,
   "id": "f295752a",
   "metadata": {},
   "outputs": [],
   "source": [
    "#Ajustamos los parámetros de la función curve_fit\n",
    "parametros1, covs= curve_fit(func1, ES['tiempo de interacción'], ES['color presionado'])\n",
    "#Obtenemos los coeficientes del modelo de regresión no lineal\n",
    "parametros1"
   ]
  },
  {
   "cell_type": "code",
   "execution_count": null,
   "id": "2f817fdd",
   "metadata": {},
   "outputs": [],
   "source": [
    "# Predicciones\n",
    "y_pred1 = func1(x, *parametros1)\n",
    "#Calculamos las predicciones y reestructuramos el vector de predicciones\n",
    "y_pred1.head()"
   ]
  },
  {
   "cell_type": "code",
   "execution_count": null,
   "id": "b520b5ec",
   "metadata": {},
   "outputs": [],
   "source": [
    "#Graficamos las predicciones y los datos originales para realizar la comparación\n",
    "plt.plot(x, y, 'bo', label=\"y-original\")\n",
    "plt.plot(x, y_pred1, label=\"y-predecida con a*x**2 + b*x + c\")\n",
    "plt.xlabel('x')\n",
    "plt.ylabel('y')\n",
    "plt.legend(loc='best', fancybox=True, shadow=True)\n",
    "plt.grid(True)\n",
    "plt.show() "
   ]
  },
  {
   "cell_type": "code",
   "execution_count": null,
   "id": "992e0ff4",
   "metadata": {},
   "outputs": [],
   "source": [
    "#Calculamos el coeficiente de determinación del modelo\n",
    "R2_Modelo1 = r2_score(y, y_pred1)\n",
    "#Calculamos el coeficiente de correlación del modelo\n",
    "R = np.sqrt(R2_Modelo1) \n",
    "R2_Modelo1 "
   ]
  },
  {
   "cell_type": "code",
   "execution_count": null,
   "id": "66531023",
   "metadata": {},
   "outputs": [],
   "source": [
    "#Calculamos el coeficiente de correlación del modelo\n",
    "R = np.sqrt(R2_Modelo1)\n",
    "R"
   ]
  },
  {
   "cell_type": "markdown",
   "id": "606836b7",
   "metadata": {},
   "source": [
    "#### Modelo 4 (Dificultad)"
   ]
  },
  {
   "cell_type": "markdown",
   "id": "100564e8",
   "metadata": {},
   "source": [
    "De esta coolumna no es necesario borrar los datos porque no sabemos con exactitud que datos son los nulos"
   ]
  },
  {
   "cell_type": "code",
   "execution_count": null,
   "id": "b3b90019",
   "metadata": {},
   "outputs": [],
   "source": [
    "#Declaramos las variables dependientes e independientes para la regresión No lineal\n",
    "Vars_Indep= df1['mini juego']\n",
    "Var_Dep= df1['dificultad']"
   ]
  },
  {
   "cell_type": "code",
   "execution_count": null,
   "id": "49b8180b",
   "metadata": {},
   "outputs": [],
   "source": [
    "#Redefinimos las variables \n",
    "x= Vars_Indep\n",
    "y= Var_Dep"
   ]
  },
  {
   "cell_type": "code",
   "execution_count": null,
   "id": "fd59aed0",
   "metadata": {},
   "outputs": [],
   "source": [
    "def  func1 (x, a, b, c):\n",
    "     return a*x**2 + b*x + c"
   ]
  },
  {
   "cell_type": "code",
   "execution_count": null,
   "id": "98307a60",
   "metadata": {},
   "outputs": [],
   "source": [
    "#Ajustamos los parámetros de la función curve_fit\n",
    "parametros1, covs= curve_fit(func1, df1['mini juego'], df1['dificultad'])\n",
    "#Obtenemos los coeficientes del modelo de regresión no lineal\n",
    "parametros1"
   ]
  },
  {
   "cell_type": "code",
   "execution_count": null,
   "id": "8a041b08",
   "metadata": {},
   "outputs": [],
   "source": [
    "# Predicciones\n",
    "y_pred1 = func1(x, *parametros1)\n",
    "#Calculamos las predicciones y reestructuramos el vector de predicciones\n",
    "y_pred1.head()"
   ]
  },
  {
   "cell_type": "code",
   "execution_count": null,
   "id": "da3a1850",
   "metadata": {},
   "outputs": [],
   "source": [
    "#Graficamos las predicciones y los datos originales para realizar la comparación\n",
    "plt.plot(x, y, 'bo', label=\"y-original\")\n",
    "plt.plot(x, y_pred1, label=\"y-predecida con a*x**2 + b*x + c\")\n",
    "plt.xlabel('x')\n",
    "plt.ylabel('y')\n",
    "plt.legend(loc='best', fancybox=True, shadow=True)\n",
    "plt.grid(True)\n",
    "plt.show() "
   ]
  },
  {
   "cell_type": "code",
   "execution_count": null,
   "id": "c01d53c4",
   "metadata": {},
   "outputs": [],
   "source": [
    "#Calculamos el coeficiente de determinación del modelo\n",
    "R2_Modelo1 = r2_score(y, y_pred1)\n",
    "#Calculamos el coeficiente de correlación del modelo\n",
    "R = np.sqrt(R2_Modelo1) \n",
    "R2_Modelo1 "
   ]
  },
  {
   "cell_type": "code",
   "execution_count": null,
   "id": "348f493f",
   "metadata": {},
   "outputs": [],
   "source": [
    "#Calculamos el coeficiente de correlación del modelo\n",
    "R = np.sqrt(R2_Modelo1)\n",
    "R"
   ]
  },
  {
   "cell_type": "markdown",
   "id": "37085b13",
   "metadata": {},
   "source": [
    "#### Ingrid"
   ]
  },
  {
   "cell_type": "code",
   "execution_count": null,
   "id": "46f77932",
   "metadata": {},
   "outputs": [],
   "source": [
    "df = pd.read_csv('Ingrid.csv')\n",
    "#Eliminamos la columna de fecha\n",
    "df1 = df.copy()\n",
    "df1 = df1.drop(columns=['usuario', 'juego', 'Unnamed: 0', 'fecha', 'administrador'])\n",
    "df1.head()"
   ]
  },
  {
   "cell_type": "markdown",
   "id": "29a0549d",
   "metadata": {},
   "source": [
    "***Correlación***"
   ]
  },
  {
   "cell_type": "code",
   "execution_count": null,
   "id": "ae58772c",
   "metadata": {},
   "outputs": [],
   "source": [
    "corr_FactorsEO = df1.corr()\n",
    "corr_FactorsEO"
   ]
  },
  {
   "cell_type": "code",
   "execution_count": null,
   "id": "65cad537",
   "metadata": {},
   "outputs": [],
   "source": [
    "corr_FactorsEO= abs(corr_FactorsEO)\n",
    "corr_FactorsEO"
   ]
  },
  {
   "cell_type": "code",
   "execution_count": null,
   "id": "e942a3ba",
   "metadata": {},
   "outputs": [],
   "source": [
    "fig, ax = plt.subplots(figsize=(20, 15))\n",
    "cax = ax.matshow(corr_FactorsEO, cmap=\"Blues\")\n",
    "fig.colorbar(cax)\n",
    "\n",
    "# Añadir anotaciones manualmente\n",
    "for i in range(corr_FactorsEO.shape[0]):\n",
    "    for j in range(corr_FactorsEO.shape[1]):\n",
    "        ax.text(j, i, f\"{corr_FactorsEO.iloc[i, j]:.2f}\", \n",
    "               ha=\"center\", va=\"center\", fontsize=20)\n",
    "\n",
    "plt.xticks(range(len(corr_FactorsEO.columns)), corr_FactorsEO.columns, rotation=90, fontsize=12)\n",
    "plt.yticks(range(len(corr_FactorsEO.index)), corr_FactorsEO.index, fontsize=12)\n",
    "plt.show()"
   ]
  },
  {
   "cell_type": "markdown",
   "id": "2681456d",
   "metadata": {},
   "source": [
    "***Modelos no lineales para Ingrid***"
   ]
  },
  {
   "cell_type": "code",
   "execution_count": null,
   "id": "092689c1",
   "metadata": {},
   "outputs": [],
   "source": [
    "#Graficamos todas las dispersiones entre todas las variables\n",
    "sns.pairplot(df1)"
   ]
  },
  {
   "cell_type": "markdown",
   "id": "2d1a3550",
   "metadata": {},
   "source": [
    "#### Modelo 1 (tiempo de interacción)"
   ]
  },
  {
   "cell_type": "code",
   "execution_count": null,
   "id": "8b689c22",
   "metadata": {},
   "outputs": [],
   "source": [
    "#Eliminamos los datos nulos de la coumna\n",
    "IN = df1[df1['presionó botón correcto'] < 3]"
   ]
  },
  {
   "cell_type": "code",
   "execution_count": null,
   "id": "8f81a392",
   "metadata": {},
   "outputs": [],
   "source": [
    "IN.head()"
   ]
  },
  {
   "cell_type": "code",
   "execution_count": null,
   "id": "d9ba51c8",
   "metadata": {},
   "outputs": [],
   "source": [
    "#Declaramos las variables dependientes e independientes para la regresión No lineal\n",
    "Vars_Indep= IN[['presionó botón correcto']]\n",
    "Var_Dep= IN['tiempo de interacción']"
   ]
  },
  {
   "cell_type": "code",
   "execution_count": null,
   "id": "c9d3a3e8",
   "metadata": {},
   "outputs": [],
   "source": [
    "#Redefinimos las variables \n",
    "x= Vars_Indep\n",
    "y= Var_Dep"
   ]
  },
  {
   "cell_type": "code",
   "execution_count": null,
   "id": "bc059922",
   "metadata": {},
   "outputs": [],
   "source": [
    "def  func1 (x, a, b, c):\n",
    "     return a*x**2 + b*x + c"
   ]
  },
  {
   "cell_type": "code",
   "execution_count": null,
   "id": "51eb0b0c",
   "metadata": {},
   "outputs": [],
   "source": [
    "#Ajustamos los parámetros de la función curve_fit\n",
    "parametros1, covs= curve_fit(func1, IN['presionó botón correcto'], IN['tiempo de interacción'])\n",
    "#Obtenemos los coeficientes del modelo de regresión no lineal\n",
    "parametros1"
   ]
  },
  {
   "cell_type": "code",
   "execution_count": null,
   "id": "c63e751c",
   "metadata": {},
   "outputs": [],
   "source": [
    "# Predicciones\n",
    "y_pred1 = func1(x, *parametros1)\n",
    "#Calculamos las predicciones y reestructuramos el vector de predicciones\n",
    "y_pred1.head()"
   ]
  },
  {
   "cell_type": "code",
   "execution_count": null,
   "id": "15d82e05",
   "metadata": {},
   "outputs": [],
   "source": [
    "#Graficamos las predicciones y los datos originales para realizar la comparación\n",
    "plt.plot(x, y, 'bo', label=\"y-original\")\n",
    "plt.plot(x, y_pred1, label=\"y-predecida con a*x**2 + b*x + c\")\n",
    "plt.xlabel('x')\n",
    "plt.ylabel('y')\n",
    "plt.legend(loc='best', fancybox=True, shadow=True)\n",
    "plt.grid(True)\n",
    "plt.show() "
   ]
  },
  {
   "cell_type": "code",
   "execution_count": null,
   "id": "521f3abf",
   "metadata": {},
   "outputs": [],
   "source": [
    "#Calculamos el coeficiente de determinación del modelo\n",
    "R2_Modelo1 = r2_score(y, y_pred1)\n",
    "#Calculamos el coeficiente de correlación del modelo\n",
    "R = np.sqrt(R2_Modelo1) \n",
    "R2_Modelo1 "
   ]
  },
  {
   "cell_type": "code",
   "execution_count": null,
   "id": "02aba46d",
   "metadata": {},
   "outputs": [],
   "source": [
    "#Calculamos el coeficiente de correlación del modelo\n",
    "R = np.sqrt(R2_Modelo1)\n",
    "R"
   ]
  },
  {
   "cell_type": "markdown",
   "id": "81348b2b",
   "metadata": {},
   "source": [
    "#### Modelo 2 (presionó botón correcto)"
   ]
  },
  {
   "cell_type": "code",
   "execution_count": null,
   "id": "16f6c256",
   "metadata": {},
   "outputs": [],
   "source": [
    "IN = df1[df1['presionó botón correcto'] != 3]"
   ]
  },
  {
   "cell_type": "code",
   "execution_count": null,
   "id": "20c13ee8",
   "metadata": {},
   "outputs": [],
   "source": [
    "#Declaramos las variables dependientes e independientes para la regresión No lineal\n",
    "Vars_Indep= IN[['color presionado']]\n",
    "Var_Dep= IN['presionó botón correcto']"
   ]
  },
  {
   "cell_type": "code",
   "execution_count": null,
   "id": "048ab6e5",
   "metadata": {},
   "outputs": [],
   "source": [
    "#Redefinimos las variables \n",
    "x= Vars_Indep\n",
    "y= Var_Dep"
   ]
  },
  {
   "cell_type": "code",
   "execution_count": null,
   "id": "1855fe13",
   "metadata": {},
   "outputs": [],
   "source": [
    "def  func1 (x, a, b, c):\n",
    "     return a*x**2 + b*x + c"
   ]
  },
  {
   "cell_type": "code",
   "execution_count": null,
   "id": "14443a29",
   "metadata": {},
   "outputs": [],
   "source": [
    "#Ajustamos los parámetros de la función curve_fit\n",
    "parametros1, covs= curve_fit(func1, IN['color presionado'], IN['presionó botón correcto'])\n",
    "#Obtenemos los coeficientes del modelo de regresión no lineal\n",
    "parametros1"
   ]
  },
  {
   "cell_type": "code",
   "execution_count": null,
   "id": "814146df",
   "metadata": {},
   "outputs": [],
   "source": [
    "# Predicciones\n",
    "y_pred1 = func1(x, *parametros1)\n",
    "#Calculamos las predicciones y reestructuramos el vector de predicciones\n",
    "y_pred1.head()"
   ]
  },
  {
   "cell_type": "code",
   "execution_count": null,
   "id": "3b543b22",
   "metadata": {},
   "outputs": [],
   "source": [
    "#Graficamos las predicciones y los datos originales para realizar la comparación\n",
    "plt.plot(x, y, 'bo', label=\"y-original\")\n",
    "plt.plot(x, y_pred1, label=\"y-predecida con a*x**2 + b*x + c\")\n",
    "plt.xlabel('x')\n",
    "plt.ylabel('y')\n",
    "plt.legend(loc='best', fancybox=True, shadow=True)\n",
    "plt.grid(True)\n",
    "plt.show()"
   ]
  },
  {
   "cell_type": "code",
   "execution_count": null,
   "id": "ad6a93e4",
   "metadata": {},
   "outputs": [],
   "source": [
    "#Calculamos el coeficiente de determinación del modelo\n",
    "R2_Modelo1 = r2_score(y, y_pred1)\n",
    "#Calculamos el coeficiente de correlación del modelo\n",
    "R = np.sqrt(R2_Modelo1) \n",
    "R2_Modelo1 "
   ]
  },
  {
   "cell_type": "code",
   "execution_count": null,
   "id": "8a7bd00d",
   "metadata": {},
   "outputs": [],
   "source": [
    "#Calculamos el coeficiente de correlación del modelo\n",
    "R = np.sqrt(R2_Modelo1)\n",
    "R"
   ]
  },
  {
   "cell_type": "markdown",
   "id": "03d006a6",
   "metadata": {},
   "source": [
    "#### Modelo 3 (color presionado)"
   ]
  },
  {
   "cell_type": "code",
   "execution_count": null,
   "id": "1847a87b",
   "metadata": {},
   "outputs": [],
   "source": [
    "#Eliminamos los datos nulos de la coumna\n",
    "IN = df1[df1['color presionado'] != 5] \n",
    "IN = df1[df1['tiempo de interacción'] != 999.0]"
   ]
  },
  {
   "cell_type": "code",
   "execution_count": null,
   "id": "c2619e7e",
   "metadata": {},
   "outputs": [],
   "source": [
    "#Declaramos las variables dependientes e independientes para la regresión No lineal\n",
    "Vars_Indep= IN[['tiempo de interacción']]\n",
    "Var_Dep= IN['color presionado']"
   ]
  },
  {
   "cell_type": "code",
   "execution_count": null,
   "id": "dc26254d",
   "metadata": {},
   "outputs": [],
   "source": [
    "#Redefinimos las variables \n",
    "x= Vars_Indep\n",
    "y= Var_Dep"
   ]
  },
  {
   "cell_type": "code",
   "execution_count": null,
   "id": "b42fbff3",
   "metadata": {},
   "outputs": [],
   "source": [
    "def  func1 (x, a, b, c):\n",
    "     return a*x**2 + b*x + c"
   ]
  },
  {
   "cell_type": "code",
   "execution_count": null,
   "id": "a773d1d8",
   "metadata": {},
   "outputs": [],
   "source": [
    "#Ajustamos los parámetros de la función curve_fit\n",
    "parametros1, covs= curve_fit(func1, IN['tiempo de interacción'], IN['color presionado'])\n",
    "#Obtenemos los coeficientes del modelo de regresión no lineal\n",
    "parametros1"
   ]
  },
  {
   "cell_type": "code",
   "execution_count": null,
   "id": "95a030b9",
   "metadata": {},
   "outputs": [],
   "source": [
    "# Predicciones\n",
    "y_pred1 = func1(x, *parametros1)\n",
    "#Calculamos las predicciones y reestructuramos el vector de predicciones\n",
    "y_pred1.head()"
   ]
  },
  {
   "cell_type": "code",
   "execution_count": null,
   "id": "c9b60598",
   "metadata": {},
   "outputs": [],
   "source": [
    "#Graficamos las predicciones y los datos originales para realizar la comparación\n",
    "plt.plot(x, y, 'bo', label=\"y-original\")\n",
    "plt.plot(x, y_pred1, label=\"y-predecida con a*x**2 + b*x + c\")\n",
    "plt.xlabel('x')\n",
    "plt.ylabel('y')\n",
    "plt.legend(loc='best', fancybox=True, shadow=True)\n",
    "plt.grid(True)\n",
    "plt.show() "
   ]
  },
  {
   "cell_type": "code",
   "execution_count": null,
   "id": "d25dbf1c",
   "metadata": {},
   "outputs": [],
   "source": [
    "#Calculamos el coeficiente de determinación del modelo\n",
    "R2_Modelo1 = r2_score(y, y_pred1)\n",
    "#Calculamos el coeficiente de correlación del modelo\n",
    "R = np.sqrt(R2_Modelo1) \n",
    "R2_Modelo1 "
   ]
  },
  {
   "cell_type": "code",
   "execution_count": null,
   "id": "bba9b5f0",
   "metadata": {},
   "outputs": [],
   "source": [
    "#Calculamos el coeficiente de correlación del modelo\n",
    "R = np.sqrt(R2_Modelo1)\n",
    "R"
   ]
  },
  {
   "cell_type": "markdown",
   "id": "9e75d67f",
   "metadata": {},
   "source": [
    "#### Modelo 4 (Dificultad)"
   ]
  },
  {
   "cell_type": "markdown",
   "id": "672a3f07",
   "metadata": {},
   "source": [
    "De esta coolumna no es necesario borrar los datos porque no sabemos con exactitud que datos son los nulos"
   ]
  },
  {
   "cell_type": "code",
   "execution_count": null,
   "id": "ddbbf586",
   "metadata": {},
   "outputs": [],
   "source": [
    "#Declaramos las variables dependientes e independientes para la regresión No lineal\n",
    "Vars_Indep= df1['mini juego']\n",
    "Var_Dep= df1['dificultad']"
   ]
  },
  {
   "cell_type": "code",
   "execution_count": null,
   "id": "1641fc25",
   "metadata": {},
   "outputs": [],
   "source": [
    "#Redefinimos las variables \n",
    "x= Vars_Indep\n",
    "y= Var_Dep"
   ]
  },
  {
   "cell_type": "code",
   "execution_count": null,
   "id": "f813d29c",
   "metadata": {},
   "outputs": [],
   "source": [
    "def  func1 (x, a, b, c):\n",
    "     return a*x**2 + b*x + c"
   ]
  },
  {
   "cell_type": "code",
   "execution_count": null,
   "id": "b31f396a",
   "metadata": {},
   "outputs": [],
   "source": [
    "#Ajustamos los parámetros de la función curve_fit\n",
    "parametros1, covs= curve_fit(func1, df1['mini juego'], df1['dificultad'])\n",
    "#Obtenemos los coeficientes del modelo de regresión no lineal\n",
    "parametros1"
   ]
  },
  {
   "cell_type": "code",
   "execution_count": null,
   "id": "a642a645",
   "metadata": {},
   "outputs": [],
   "source": [
    "# Predicciones\n",
    "y_pred1 = func1(x, *parametros1)\n",
    "#Calculamos las predicciones y reestructuramos el vector de predicciones\n",
    "y_pred1.head()"
   ]
  },
  {
   "cell_type": "code",
   "execution_count": null,
   "id": "18c8e015",
   "metadata": {},
   "outputs": [],
   "source": [
    "#Graficamos las predicciones y los datos originales para realizar la comparación\n",
    "plt.plot(x, y, 'bo', label=\"y-original\")\n",
    "plt.plot(x, y_pred1, label=\"y-predecida con a*x**2 + b*x + c\")\n",
    "plt.xlabel('x')\n",
    "plt.ylabel('y')\n",
    "plt.legend(loc='best', fancybox=True, shadow=True)\n",
    "plt.grid(True)\n",
    "plt.show() "
   ]
  },
  {
   "cell_type": "code",
   "execution_count": null,
   "id": "0ad18f06",
   "metadata": {},
   "outputs": [],
   "source": [
    "#Calculamos el coeficiente de determinación del modelo\n",
    "R2_Modelo1 = r2_score(y, y_pred1)\n",
    "#Calculamos el coeficiente de correlación del modelo\n",
    "R = np.sqrt(R2_Modelo1) \n",
    "R2_Modelo1 "
   ]
  },
  {
   "cell_type": "code",
   "execution_count": null,
   "id": "fedd6208",
   "metadata": {},
   "outputs": [],
   "source": [
    "#Calculamos el coeficiente de correlación del modelo\n",
    "R = np.sqrt(R2_Modelo1)\n",
    "R"
   ]
  },
  {
   "cell_type": "markdown",
   "id": "63a98b69",
   "metadata": {},
   "source": [
    "Jesus Alejandro"
   ]
  },
  {
   "cell_type": "code",
   "execution_count": null,
   "id": "3f02a0e7",
   "metadata": {},
   "outputs": [],
   "source": [
    "df = pd.read_csv('Jesus Alejandro.csv')\n",
    "#Eliminamos la columna de fecha\n",
    "df1 = df.copy()\n",
    "df1 = df1.drop(columns=['usuario', 'juego', 'fecha', 'administrador'])\n",
    "df1.head()"
   ]
  },
  {
   "cell_type": "markdown",
   "id": "bcfe498c",
   "metadata": {},
   "source": [
    "***Correlación***"
   ]
  },
  {
   "cell_type": "code",
   "execution_count": null,
   "id": "fcd84ac6",
   "metadata": {},
   "outputs": [],
   "source": [
    "corr_FactorsEO = df1.corr()\n",
    "corr_FactorsEO"
   ]
  },
  {
   "cell_type": "code",
   "execution_count": null,
   "id": "0b42ca8f",
   "metadata": {},
   "outputs": [],
   "source": [
    "corr_FactorsEO= abs(corr_FactorsEO)\n",
    "corr_FactorsEO"
   ]
  },
  {
   "cell_type": "code",
   "execution_count": null,
   "id": "202de81b",
   "metadata": {},
   "outputs": [],
   "source": [
    "corr_FactorsEO= abs(corr_FactorsEO)\n",
    "corr_FactorsEO"
   ]
  },
  {
   "cell_type": "code",
   "execution_count": null,
   "id": "490716e8",
   "metadata": {},
   "outputs": [],
   "source": [
    "fig, ax = plt.subplots(figsize=(20, 15))\n",
    "cax = ax.matshow(corr_FactorsEO, cmap=\"Blues\")\n",
    "fig.colorbar(cax)\n",
    "\n",
    "# Añadir anotaciones manualmente\n",
    "for i in range(corr_FactorsEO.shape[0]):\n",
    "    for j in range(corr_FactorsEO.shape[1]):\n",
    "        ax.text(j, i, f\"{corr_FactorsEO.iloc[i, j]:.2f}\", \n",
    "               ha=\"center\", va=\"center\", fontsize=20)\n",
    "\n",
    "plt.xticks(range(len(corr_FactorsEO.columns)), corr_FactorsEO.columns, rotation=90, fontsize=12)\n",
    "plt.yticks(range(len(corr_FactorsEO.index)), corr_FactorsEO.index, fontsize=12)\n",
    "plt.show()"
   ]
  },
  {
   "cell_type": "markdown",
   "id": "eb490f2a",
   "metadata": {},
   "source": [
    "***Modelos no lineales para Jesus Alejandro***"
   ]
  },
  {
   "cell_type": "code",
   "execution_count": null,
   "id": "950afa30",
   "metadata": {},
   "outputs": [],
   "source": [
    "#Graficamos todas las dispersiones entre todas las variables\n",
    "sns.pairplot(df1)"
   ]
  },
  {
   "cell_type": "markdown",
   "id": "f5ff8d03",
   "metadata": {},
   "source": [
    "#### Modelo 1 (tiempo de interacción)"
   ]
  },
  {
   "cell_type": "code",
   "execution_count": null,
   "id": "65887f53",
   "metadata": {},
   "outputs": [],
   "source": [
    "#Eliminamos los datos nulos de la coumna\n",
    "IN = df1[df1['presionó botón correcto'] < 3]"
   ]
  },
  {
   "cell_type": "code",
   "execution_count": null,
   "id": "d466d8c9",
   "metadata": {},
   "outputs": [],
   "source": [
    "IN.head()"
   ]
  },
  {
   "cell_type": "code",
   "execution_count": null,
   "id": "ac9879c3",
   "metadata": {},
   "outputs": [],
   "source": [
    "#Declaramos las variables dependientes e independientes para la regresión No lineal\n",
    "Vars_Indep= IN[['presionó botón correcto']]\n",
    "Var_Dep= IN['tiempo de interacción']"
   ]
  },
  {
   "cell_type": "code",
   "execution_count": null,
   "id": "a3182881",
   "metadata": {},
   "outputs": [],
   "source": [
    "#Redefinimos las variables \n",
    "x= Vars_Indep\n",
    "y= Var_Dep"
   ]
  },
  {
   "cell_type": "code",
   "execution_count": null,
   "id": "e7874570",
   "metadata": {},
   "outputs": [],
   "source": [
    "def  func1 (x, a, b, c):\n",
    "     return a*x**2 + b*x + c"
   ]
  },
  {
   "cell_type": "code",
   "execution_count": null,
   "id": "57d92402",
   "metadata": {},
   "outputs": [],
   "source": [
    "#Ajustamos los parámetros de la función curve_fit\n",
    "parametros1, covs= curve_fit(func1, IN['presionó botón correcto'], IN['tiempo de interacción'])\n",
    "#Obtenemos los coeficientes del modelo de regresión no lineal\n",
    "parametros1"
   ]
  },
  {
   "cell_type": "code",
   "execution_count": null,
   "id": "1fbcd12a",
   "metadata": {},
   "outputs": [],
   "source": [
    "# Predicciones\n",
    "y_pred1 = func1(x, *parametros1)\n",
    "#Calculamos las predicciones y reestructuramos el vector de predicciones\n",
    "y_pred1.head()"
   ]
  },
  {
   "cell_type": "code",
   "execution_count": null,
   "id": "64bcebda",
   "metadata": {},
   "outputs": [],
   "source": [
    "#Graficamos las predicciones y los datos originales para realizar la comparación\n",
    "plt.plot(x, y, 'bo', label=\"y-original\")\n",
    "plt.plot(x, y_pred1, label=\"y-predecida con a*x**2 + b*x + c\")\n",
    "plt.xlabel('x')\n",
    "plt.ylabel('y')\n",
    "plt.legend(loc='best', fancybox=True, shadow=True)\n",
    "plt.grid(True)\n",
    "plt.show() "
   ]
  },
  {
   "cell_type": "code",
   "execution_count": null,
   "id": "32c40db3",
   "metadata": {},
   "outputs": [],
   "source": [
    "#Calculamos el coeficiente de determinación del modelo\n",
    "R2_Modelo1 = r2_score(y, y_pred1)\n",
    "#Calculamos el coeficiente de correlación del modelo\n",
    "R = np.sqrt(R2_Modelo1) \n",
    "R2_Modelo1 "
   ]
  },
  {
   "cell_type": "code",
   "execution_count": null,
   "id": "a71ef404",
   "metadata": {},
   "outputs": [],
   "source": [
    "#Calculamos el coeficiente de correlación del modelo\n",
    "R = np.sqrt(R2_Modelo1)\n",
    "R"
   ]
  },
  {
   "cell_type": "markdown",
   "id": "5f53be88",
   "metadata": {},
   "source": [
    "#### Modelo 2 (presionó botón correcto)"
   ]
  },
  {
   "cell_type": "code",
   "execution_count": null,
   "id": "c4302b62",
   "metadata": {},
   "outputs": [],
   "source": [
    "IN = df1[df1['presionó botón correcto'] != 3]"
   ]
  },
  {
   "cell_type": "code",
   "execution_count": null,
   "id": "8a48387f",
   "metadata": {},
   "outputs": [],
   "source": [
    "#Declaramos las variables dependientes e independientes para la regresión No lineal\n",
    "Vars_Indep= IN[['color presionado']]\n",
    "Var_Dep= IN['presionó botón correcto']"
   ]
  },
  {
   "cell_type": "code",
   "execution_count": null,
   "id": "f1a8849e",
   "metadata": {},
   "outputs": [],
   "source": [
    "#Redefinimos las variables \n",
    "x= Vars_Indep\n",
    "y= Var_Dep"
   ]
  },
  {
   "cell_type": "code",
   "execution_count": null,
   "id": "76017792",
   "metadata": {},
   "outputs": [],
   "source": [
    "def  func1 (x, a, b, c):\n",
    "     return a*x**2 + b*x + c"
   ]
  },
  {
   "cell_type": "code",
   "execution_count": null,
   "id": "c90b8c9f",
   "metadata": {},
   "outputs": [],
   "source": [
    "#Ajustamos los parámetros de la función curve_fit\n",
    "parametros1, covs= curve_fit(func1, IN['color presionado'], IN['presionó botón correcto'])\n",
    "#Obtenemos los coeficientes del modelo de regresión no lineal\n",
    "parametros1"
   ]
  },
  {
   "cell_type": "code",
   "execution_count": null,
   "id": "3cadebbc",
   "metadata": {},
   "outputs": [],
   "source": [
    "# Predicciones\n",
    "y_pred1 = func1(x, *parametros1)\n",
    "#Calculamos las predicciones y reestructuramos el vector de predicciones\n",
    "y_pred1.head()"
   ]
  },
  {
   "cell_type": "code",
   "execution_count": null,
   "id": "f8ef5324",
   "metadata": {},
   "outputs": [],
   "source": [
    "#Graficamos las predicciones y los datos originales para realizar la comparación\n",
    "plt.plot(x, y, 'bo', label=\"y-original\")\n",
    "plt.plot(x, y_pred1, label=\"y-predecida con a*x**2 + b*x + c\")\n",
    "plt.xlabel('x')\n",
    "plt.ylabel('y')\n",
    "plt.legend(loc='best', fancybox=True, shadow=True)\n",
    "plt.grid(True)\n",
    "plt.show()"
   ]
  },
  {
   "cell_type": "code",
   "execution_count": null,
   "id": "428a7b10",
   "metadata": {},
   "outputs": [],
   "source": [
    "#Calculamos el coeficiente de determinación del modelo\n",
    "R2_Modelo1 = r2_score(y, y_pred1)\n",
    "#Calculamos el coeficiente de correlación del modelo\n",
    "R = np.sqrt(R2_Modelo1) \n",
    "R2_Modelo1 "
   ]
  },
  {
   "cell_type": "code",
   "execution_count": null,
   "id": "abfd1ae8",
   "metadata": {},
   "outputs": [],
   "source": [
    "#Calculamos el coeficiente de correlación del modelo\n",
    "R = np.sqrt(R2_Modelo1)\n",
    "R"
   ]
  },
  {
   "cell_type": "markdown",
   "id": "d212b527",
   "metadata": {},
   "source": [
    "#### Modelo 3 (color presionado)"
   ]
  },
  {
   "cell_type": "code",
   "execution_count": null,
   "id": "0f48fa2d",
   "metadata": {},
   "outputs": [],
   "source": [
    "#Eliminamos los datos nulos de la coumna\n",
    "IN = df1[df1['color presionado'] != 5] \n",
    "IN = df1[df1['tiempo de interacción'] != 999.0]"
   ]
  },
  {
   "cell_type": "code",
   "execution_count": null,
   "id": "8469a1d9",
   "metadata": {},
   "outputs": [],
   "source": [
    "#Declaramos las variables dependientes e independientes para la regresión No lineal\n",
    "Vars_Indep= IN[['tiempo de interacción']]\n",
    "Var_Dep= IN['color presionado']"
   ]
  },
  {
   "cell_type": "code",
   "execution_count": null,
   "id": "65b6c39a",
   "metadata": {},
   "outputs": [],
   "source": [
    "#Redefinimos las variables \n",
    "x= Vars_Indep\n",
    "y= Var_Dep"
   ]
  },
  {
   "cell_type": "code",
   "execution_count": null,
   "id": "be1bce4c",
   "metadata": {},
   "outputs": [],
   "source": [
    "def  func1 (x, a, b, c):\n",
    "     return a*x**2 + b*x + c"
   ]
  },
  {
   "cell_type": "code",
   "execution_count": null,
   "id": "3ffd26e8",
   "metadata": {},
   "outputs": [],
   "source": [
    "#Ajustamos los parámetros de la función curve_fit\n",
    "parametros1, covs= curve_fit(func1, IN['tiempo de interacción'], IN['color presionado'])\n",
    "#Obtenemos los coeficientes del modelo de regresión no lineal\n",
    "parametros1"
   ]
  },
  {
   "cell_type": "code",
   "execution_count": null,
   "id": "b55e227e",
   "metadata": {},
   "outputs": [],
   "source": [
    "# Predicciones\n",
    "y_pred1 = func1(x, *parametros1)\n",
    "#Calculamos las predicciones y reestructuramos el vector de predicciones\n",
    "y_pred1.head()"
   ]
  },
  {
   "cell_type": "code",
   "execution_count": null,
   "id": "c2362320",
   "metadata": {},
   "outputs": [],
   "source": [
    "#Graficamos las predicciones y los datos originales para realizar la comparación\n",
    "plt.plot(x, y, 'bo', label=\"y-original\")\n",
    "plt.plot(x, y_pred1, label=\"y-predecida con a*x**2 + b*x + c\")\n",
    "plt.xlabel('x')\n",
    "plt.ylabel('y')\n",
    "plt.legend(loc='best', fancybox=True, shadow=True)\n",
    "plt.grid(True)\n",
    "plt.show() "
   ]
  },
  {
   "cell_type": "code",
   "execution_count": null,
   "id": "a73d32f6",
   "metadata": {},
   "outputs": [],
   "source": [
    "#Calculamos el coeficiente de determinación del modelo\n",
    "R2_Modelo1 = r2_score(y, y_pred1)\n",
    "#Calculamos el coeficiente de correlación del modelo\n",
    "R = np.sqrt(R2_Modelo1) \n",
    "R2_Modelo1 "
   ]
  },
  {
   "cell_type": "code",
   "execution_count": null,
   "id": "e624bf6c",
   "metadata": {},
   "outputs": [],
   "source": [
    "#Calculamos el coeficiente de correlación del modelo\n",
    "R = np.sqrt(R2_Modelo1)\n",
    "R"
   ]
  },
  {
   "cell_type": "markdown",
   "id": "f3abca0e",
   "metadata": {},
   "source": [
    "#### Modelo 4 (Dificultad)"
   ]
  },
  {
   "cell_type": "markdown",
   "id": "51ca93bd",
   "metadata": {},
   "source": [
    "De esta coolumna no es necesario borrar los datos porque no sabemos con exactitud que datos son los nulos"
   ]
  },
  {
   "cell_type": "code",
   "execution_count": null,
   "id": "755dafd4",
   "metadata": {},
   "outputs": [],
   "source": [
    "#Declaramos las variables dependientes e independientes para la regresión No lineal\n",
    "Vars_Indep= df1['mini juego']\n",
    "Var_Dep= df1['dificultad']"
   ]
  },
  {
   "cell_type": "code",
   "execution_count": null,
   "id": "8579d930",
   "metadata": {},
   "outputs": [],
   "source": [
    "#Redefinimos las variables \n",
    "x= Vars_Indep\n",
    "y= Var_Dep"
   ]
  },
  {
   "cell_type": "code",
   "execution_count": null,
   "id": "10ed69d3",
   "metadata": {},
   "outputs": [],
   "source": [
    "def  func1 (x, a, b, c):\n",
    "     return a*x**2 + b*x + c"
   ]
  },
  {
   "cell_type": "code",
   "execution_count": null,
   "id": "273b2d25",
   "metadata": {},
   "outputs": [],
   "source": [
    "#Ajustamos los parámetros de la función curve_fit\n",
    "parametros1, covs= curve_fit(func1, df1['mini juego'], df1['dificultad'])\n",
    "#Obtenemos los coeficientes del modelo de regresión no lineal\n",
    "parametros1"
   ]
  },
  {
   "cell_type": "code",
   "execution_count": null,
   "id": "469e0abf",
   "metadata": {},
   "outputs": [],
   "source": [
    "# Predicciones\n",
    "y_pred1 = func1(x, *parametros1)\n",
    "#Calculamos las predicciones y reestructuramos el vector de predicciones\n",
    "y_pred1.head()"
   ]
  },
  {
   "cell_type": "code",
   "execution_count": null,
   "id": "d88a16e9",
   "metadata": {},
   "outputs": [],
   "source": [
    "#Graficamos las predicciones y los datos originales para realizar la comparación\n",
    "plt.plot(x, y, 'bo', label=\"y-original\")\n",
    "plt.plot(x, y_pred1, label=\"y-predecida con a*x**2 + b*x + c\")\n",
    "plt.xlabel('x')\n",
    "plt.ylabel('y')\n",
    "plt.legend(loc='best', fancybox=True, shadow=True)\n",
    "plt.grid(True)\n",
    "plt.show() "
   ]
  },
  {
   "cell_type": "code",
   "execution_count": null,
   "id": "be18f4db",
   "metadata": {},
   "outputs": [],
   "source": [
    "#Calculamos el coeficiente de determinación del modelo\n",
    "R2_Modelo1 = r2_score(y, y_pred1)\n",
    "#Calculamos el coeficiente de correlación del modelo\n",
    "R = np.sqrt(R2_Modelo1) \n",
    "R2_Modelo1 "
   ]
  },
  {
   "cell_type": "code",
   "execution_count": null,
   "id": "b5065c31",
   "metadata": {},
   "outputs": [],
   "source": [
    "#Calculamos el coeficiente de correlación del modelo\n",
    "R = np.sqrt(R2_Modelo1)\n",
    "R"
   ]
  },
  {
   "cell_type": "code",
   "execution_count": null,
   "id": "558fd62a",
   "metadata": {},
   "outputs": [],
   "source": [
    "import numpy as np\n",
    "import matplotlib.pyplot as ply\n",
    "import pandas as pd\n",
    "import matplotlib.pyplot as plt\n",
    "import scipy.special as special\n",
    "from scipy.optimize import curve_fit\n",
    "import seaborn as sns\n",
    "from sklearn.metrics import r2_score"
   ]
  },
  {
   "cell_type": "code",
   "execution_count": null,
   "id": "45cccf75",
   "metadata": {},
   "outputs": [],
   "source": [
    "#Cargar el archivo csv desde seaborn\n",
    "df= pd.read_csv('Iker Benjamin.csv')\n",
    "df.head(5)"
   ]
  },
  {
   "cell_type": "code",
   "execution_count": null,
   "id": "fd372b96",
   "metadata": {},
   "outputs": [],
   "source": [
    "#Graficamos todas las dispersiones entre todas las variables\n",
    "sns.pairplot(df)"
   ]
  },
  {
   "cell_type": "code",
   "execution_count": null,
   "id": "a4bbeb4e",
   "metadata": {},
   "outputs": [],
   "source": [
    "#Declaramos las variables dependientes e independientes para la regresion no lineal\n",
    "\n",
    "Vars_Indep= df[['tiempo de interacción']]\n",
    "Var_Dep= df[['color presionado']]"
   ]
  },
  {
   "cell_type": "code",
   "execution_count": null,
   "id": "dd02d11f",
   "metadata": {},
   "outputs": [],
   "source": [
    "#Redefinimos las variables\n",
    "x= Vars_Indep\n",
    "y= Var_Dep"
   ]
  },
  {
   "cell_type": "code",
   "execution_count": null,
   "id": "9526a6fd",
   "metadata": {},
   "outputs": [],
   "source": [
    "# Funcion de valor absoluto\n",
    "def func1(x, a, b, c):\n",
    "    return a*x**2 + b*x + c\n",
    "#corr = 19.05%\n",
    "\n",
    "# Función cuadrática\n",
    "#def func1(x, a, b, c):\n",
    "    #return a * x**2 + b * x + c\n",
    "\n",
    "# Función exponencial\n",
    "#def func1(x, a, b, c):\n",
    "    #return a * np.exp(-b * x) + c\n",
    "\n",
    "# Función inversa\n",
    "#def func1(x, a):\n",
    "    #return 1 / (a * x)\n",
    "\n",
    "# Función senoidal\n",
    "#def func1(x, a, b):\n",
    "    #return a * np.sin(x) + b\n",
    "\n",
    "# Función tangencial\n",
    "#def func1(x, a, b):\n",
    "    #return a * np.tan(x) + b\n",
    "\n",
    "# Función valor absoluto\n",
    "#def func1(x, a, b, c):\n",
    "    #return a * np.abs(x) + b * x + c\n",
    "\n",
    "# Función cociente entre polinomios\n",
    "#def func7(x, a, b, c):\n",
    "    #return (a * x**2 + b) / (c * x)\n",
    "#corr = 18.24%\n",
    "\n",
    "# Función logarítmica\n",
    "#def func1(x, a, b):\n",
    "    #return a * np.log(x) + b\n",
    "\n",
    "# Función lineal con producto de coeficientes\n",
    "#def func1(x, a, b, c):\n",
    "    #return a * x + b * x + c * x  # Simplifica a: (a + b + c) * x\n",
    "\n",
    "# Función cuadrática inversa\n",
    "#def func1(x, a):\n",
    "    #return 1 / (a * x**2)\n",
    "\n",
    "# Función polinomial inversa\n",
    "#def func1(x, a, b, c):\n",
    "    #return (a / b) * x**2 + c * x"
   ]
  },
  {
   "cell_type": "code",
   "execution_count": null,
   "id": "48ae332b",
   "metadata": {},
   "outputs": [],
   "source": [
    "#Ajustamos los paramteros de la funcion curve_fit\n",
    "parametros1, covs = curve_fit(func1, df['tiempo de interacción'], df['color presionado'])"
   ]
  },
  {
   "cell_type": "code",
   "execution_count": null,
   "id": "6a9d3710",
   "metadata": {},
   "outputs": [],
   "source": [
    "#Obtenemos los coeficientes del modelo de regresion no lineal\n",
    "parametros1"
   ]
  },
  {
   "cell_type": "code",
   "execution_count": null,
   "id": "1af58eab",
   "metadata": {},
   "outputs": [],
   "source": [
    "#Predicciones \n",
    "y_pred1 = func1(x, *parametros1)"
   ]
  },
  {
   "cell_type": "code",
   "execution_count": null,
   "id": "c8e00a83",
   "metadata": {},
   "outputs": [],
   "source": [
    "y_pred1"
   ]
  },
  {
   "cell_type": "code",
   "execution_count": null,
   "id": "4b2b9663",
   "metadata": {},
   "outputs": [],
   "source": [
    "#Graficamos las predicciones y los datos originales para realizar la comparación\n",
    "plt.plot(x, y, 'bo', label=\"y-original\")\n",
    "plt.plot(x, y_pred1, label=\"y-predecida con y=a*x^2+b*x+c\")\n",
    "plt.xlabel('x')\n",
    "plt.ylabel('y')\n",
    "plt.legend(loc='best', fancybox=True, shadow=True)\n",
    "plt.grid(True)\n",
    "plt.show()"
   ]
  },
  {
   "cell_type": "code",
   "execution_count": null,
   "id": "a6f255df",
   "metadata": {},
   "outputs": [],
   "source": [
    "\n",
    "print(\"Inf en y:\", np.isinf(y).any())\n",
    "print(\"NaN en y:\", np.isnan(y).any())\n",
    "print(\"Inf en y_pred1:\", np.isinf(y_pred1).any())\n",
    "print(\"NaN en y_pred1:\", np.isnan(y_pred1).any())"
   ]
  },
  {
   "cell_type": "code",
   "execution_count": null,
   "id": "4a516508",
   "metadata": {},
   "outputs": [],
   "source": [
    "# Reemplaza inf por NaN\n",
    "y = np.where(np.isinf(y), np.nan, y)\n",
    "y_pred1 = np.where(np.isinf(y_pred1), np.nan, y_pred1)\n",
    "\n",
    "# Quita filas donde haya NaNs\n",
    "mask = ~np.isnan(y) & ~np.isnan(y_pred1)\n",
    "y_clean = y[mask]\n",
    "y_pred1_clean = y_pred1[mask]"
   ]
  },
  {
   "cell_type": "code",
   "execution_count": null,
   "id": "1c26ded8",
   "metadata": {},
   "outputs": [],
   "source": [
    "\n",
    "R2_Modelo1 = r2_score(y_clean, y_pred1_clean)\n",
    "print(R2_Modelo1)"
   ]
  },
  {
   "cell_type": "code",
   "execution_count": null,
   "id": "2e66fb11",
   "metadata": {},
   "outputs": [],
   "source": [
    "print(\"NaNs en y:\", np.isnan(y).sum())\n",
    "print(\"NaNs en y_pred1:\", np.isnan(y_pred1).sum())"
   ]
  },
  {
   "cell_type": "code",
   "execution_count": null,
   "id": "c1b1844a",
   "metadata": {},
   "outputs": [],
   "source": [
    "y_pred1_filled = np.nan_to_num(y_pred1, nan=np.nanmean(y_pred1))\n",
    "\n",
    "R2_Modelo1 = r2_score(y, y_pred1_filled)\n",
    "print(R2_Modelo1)"
   ]
  },
  {
   "cell_type": "code",
   "execution_count": null,
   "id": "72a86e11",
   "metadata": {},
   "outputs": [],
   "source": [
    "y_pred1_filled = np.nan_to_num(y_pred1, nan=np.nanmean(y_pred1))\n",
    "\n",
    "R2_Modelo1 = r2_score(y, y_pred1_filled)\n",
    "print(R2_Modelo1)"
   ]
  },
  {
   "cell_type": "markdown",
   "id": "6973c882",
   "metadata": {},
   "source": [
    "## Modelo 2"
   ]
  },
  {
   "cell_type": "code",
   "execution_count": null,
   "id": "194302cf",
   "metadata": {},
   "outputs": [],
   "source": [
    "df[df['auto push'] != 0]"
   ]
  },
  {
   "cell_type": "code",
   "execution_count": null,
   "id": "a7df4caa",
   "metadata": {},
   "outputs": [],
   "source": [
    "#Declaramos las variables dependientes e independientes para la regresion no lineal\n",
    "Vars_Indep= df[['auto push']]\n",
    "Var_Dep= df[['presionó botón correcto']]"
   ]
  },
  {
   "cell_type": "code",
   "execution_count": null,
   "id": "8d4a03cf",
   "metadata": {},
   "outputs": [],
   "source": [
    "#Redefinimos las variables\n",
    "x= Vars_Indep\n",
    "y= Var_Dep\n",
    "\n",
    "# Funcion de valor absoluto\n",
    "def func1(x, a, b, c):\n",
    "    return a*x**2 + b*x + c\n",
    "#corr = 19.05%\n",
    "\n",
    "# Función cuadrática\n",
    "#def func1(x, a, b, c):\n",
    "    #return a * x**2 + b * x + c\n",
    "\n",
    "# Función exponencial\n",
    "#def func1(x, a, b, c):\n",
    "    #return a * np.exp(-b * x) + c\n",
    "\n",
    "# Función inversa\n",
    "#def func1(x, a):\n",
    "    #return 1 / (a * x)\n",
    "\n",
    "# Función senoidal\n",
    "#def func1(x, a, b):\n",
    "    #return a * np.sin(x) + b\n",
    "\n",
    "# Función tangencial\n",
    "#def func1(x, a, b):\n",
    "    #return a * np.tan(x) + b\n",
    "\n",
    "# Función valor absoluto\n",
    "#def func1(x, a, b, c):\n",
    "    #return a * np.abs(x) + b * x + c\n",
    "\n",
    "# Función cociente entre polinomios\n",
    "#def func7(x, a, b, c):\n",
    "    #return (a * x**2 + b) / (c * x)\n",
    "#corr = 18.24%\n",
    "\n",
    "# Función logarítmica\n",
    "#def func1(x, a, b):\n",
    "    #return a * np.log(x) + b\n",
    "\n",
    "# Función lineal con producto de coeficientes\n",
    "#def func1(x, a, b, c):\n",
    "    #return a * x + b * x + c * x  # Simplifica a: (a + b + c) * x\n",
    "\n",
    "# Función cuadrática inversa\n",
    "#def func1(x, a):\n",
    "    #return 1 / (a * x**2)\n",
    "\n",
    "# Función polinomial inversa\n",
    "#def func1(x, a, b, c):\n",
    "    #return (a / b) * x**2 + c * x\n",
    "\n",
    "#Ajustamos los paramteros de la funcion curve_fit\n",
    "parametros1, covs = curve_fit(func1, df['auto push'], df['presionó botón correcto'])\n",
    "\n",
    "#Obtenemos los coeficientes del modelo de regresion no lineal\n",
    "parametros1\n",
    "\n",
    "#Predicciones \n",
    "y_pred1 = func1(x, *parametros1)\n",
    "\n",
    "y_pred1"
   ]
  },
  {
   "cell_type": "code",
   "execution_count": null,
   "id": "28fdf2bf",
   "metadata": {},
   "outputs": [],
   "source": [
    "#Graficamos las predicciones y los datos originales para realizar la comparación\n",
    "plt.plot(x, y, 'bo', label=\"y-original\")\n",
    "plt.plot(x, y_pred1, label=\"y-predecida con y=a*x^2+b*x+c\")\n",
    "plt.xlabel('x')\n",
    "plt.ylabel('y')\n",
    "plt.legend(loc='best', fancybox=True, shadow=True)\n",
    "plt.grid(True)\n",
    "plt.show()"
   ]
  },
  {
   "cell_type": "code",
   "execution_count": null,
   "id": "14cf5e7e",
   "metadata": {},
   "outputs": [],
   "source": [
    "print(\"Inf en y:\", np.isinf(y).any())\n",
    "print(\"NaN en y:\", np.isnan(y).any())\n",
    "print(\"Inf en y_pred1:\", np.isinf(y_pred1).any())\n",
    "print(\"NaN en y_pred1:\", np.isnan(y_pred1).any())"
   ]
  },
  {
   "cell_type": "code",
   "execution_count": null,
   "id": "c15e626e",
   "metadata": {},
   "outputs": [],
   "source": [
    "# Reemplaza inf por NaN\n",
    "y = np.where(np.isinf(y), np.nan, y)\n",
    "y_pred1 = np.where(np.isinf(y_pred1), np.nan, y_pred1)\n",
    "\n",
    "# Quita filas donde haya NaNs\n",
    "mask = ~np.isnan(y) & ~np.isnan(y_pred1)\n",
    "y_clean = y[mask]\n",
    "y_pred1_clean = y_pred1[mask]"
   ]
  },
  {
   "cell_type": "code",
   "execution_count": null,
   "id": "09b31648",
   "metadata": {},
   "outputs": [],
   "source": [
    "from sklearn.metrics import r2_score\n",
    "\n",
    "R2_Modelo1 = r2_score(y_clean, y_pred1_clean)\n",
    "print(R2_Modelo1)"
   ]
  },
  {
   "cell_type": "code",
   "execution_count": null,
   "id": "dcfd0ab6",
   "metadata": {},
   "outputs": [],
   "source": [
    "#Calculamos el coeficiente de determinacion del modelo\n",
    "R2_Modelo1 = r2_score(y, y_pred1) \n",
    "R2_Modelo1"
   ]
  },
  {
   "cell_type": "markdown",
   "id": "e6c2930e",
   "metadata": {},
   "source": [
    "## Modelo 3"
   ]
  },
  {
   "cell_type": "code",
   "execution_count": null,
   "id": "d0704c52",
   "metadata": {},
   "outputs": [],
   "source": [
    "#Eliminamos los datos nulos de la coumna\n",
    "df[df['color presionado'] != 5]\n",
    "df[df['tiempo de interacción'] != 999.0]"
   ]
  },
  {
   "cell_type": "code",
   "execution_count": null,
   "id": "38d10bdf",
   "metadata": {},
   "outputs": [],
   "source": [
    "#Declaramos las variables dependientes e independientes para la regresion no lineal\n",
    "Vars_Indep= df[['color presionado']]\n",
    "Var_Dep= df[['tiempo de interacción']]"
   ]
  },
  {
   "cell_type": "code",
   "execution_count": null,
   "id": "69c5d65d",
   "metadata": {},
   "outputs": [],
   "source": [
    "#Redefinimos las variables\n",
    "x= Vars_Indep\n",
    "y= Var_Dep\n",
    "\n",
    "# Funcion de valor absoluto\n",
    "def func1(x, a, b, c):\n",
    "    return a*x**2 + b*x + c\n",
    "#corr = 19.05%\n",
    "\n",
    "# Función cuadrática\n",
    "#def func1(x, a, b, c):\n",
    "    #return a * x**2 + b * x + c\n",
    "\n",
    "# Función exponencial\n",
    "#def func1(x, a, b, c):\n",
    "    #return a * np.exp(-b * x) + c\n",
    "\n",
    "# Función inversa\n",
    "#def func1(x, a):\n",
    "    #return 1 / (a * x)\n",
    "\n",
    "# Función senoidal\n",
    "#def func1(x, a, b):\n",
    "    #return a * np.sin(x) + b\n",
    "\n",
    "# Función tangencial\n",
    "#def func1(x, a, b):\n",
    "    #return a * np.tan(x) + b\n",
    "\n",
    "# Función valor absoluto\n",
    "#def func1(x, a, b, c):\n",
    "    #return a * np.abs(x) + b * x + c\n",
    "\n",
    "# Función cociente entre polinomios\n",
    "#def func7(x, a, b, c):\n",
    "    #return (a * x**2 + b) / (c * x)\n",
    "#corr = 18.24%\n",
    "\n",
    "# Función logarítmica\n",
    "#def func1(x, a, b):\n",
    "    #return a * np.log(x) + b\n",
    "\n",
    "# Función lineal con producto de coeficientes\n",
    "#def func1(x, a, b, c):\n",
    "    #return a * x + b * x + c * x  # Simplifica a: (a + b + c) * x\n",
    "\n",
    "# Función cuadrática inversa\n",
    "#def func1(x, a):\n",
    "    #return 1 / (a * x**2)\n",
    "\n",
    "# Función polinomial inversa\n",
    "#def func1(x, a, b, c):\n",
    "    #return (a / b) * x**2 + c * x\n",
    "\n",
    "#Ajustamos los paramteros de la funcion curve_fit\n",
    "parametros1, covs = curve_fit(func1, df['color presionado'], df['tiempo de interacción'])\n",
    "\n",
    "#Obtenemos los coeficientes del modelo de regresion no lineal\n",
    "parametros1\n",
    "\n",
    "#Predicciones \n",
    "y_pred1 = func1(x, *parametros1)\n",
    "\n",
    "y_pred1"
   ]
  },
  {
   "cell_type": "code",
   "execution_count": null,
   "id": "84633bcf",
   "metadata": {},
   "outputs": [],
   "source": [
    "#Graficamos las predicciones y los datos originales para realizar la comparación\n",
    "plt.plot(x, y, 'bo', label=\"y-original\")\n",
    "plt.plot(x, y_pred1, label=\"y-predecida con y=a*x^2+b*x+c\")\n",
    "plt.xlabel('x')\n",
    "plt.ylabel('y')\n",
    "plt.legend(loc='best', fancybox=True, shadow=True)\n",
    "plt.grid(True)\n",
    "plt.show()"
   ]
  },
  {
   "cell_type": "code",
   "execution_count": null,
   "id": "81f164a8",
   "metadata": {},
   "outputs": [],
   "source": [
    "\n",
    "print(\"Inf en y:\", np.isinf(y).any())\n",
    "print(\"NaN en y:\", np.isnan(y).any())\n",
    "print(\"Inf en y_pred1:\", np.isinf(y_pred1).any())\n",
    "print(\"NaN en y_pred1:\", np.isnan(y_pred1).any())"
   ]
  },
  {
   "cell_type": "code",
   "execution_count": null,
   "id": "a8e3d7a2",
   "metadata": {},
   "outputs": [],
   "source": [
    "# Reemplaza inf por NaN\n",
    "y = np.where(np.isinf(y), np.nan, y)\n",
    "y_pred1 = np.where(np.isinf(y_pred1), np.nan, y_pred1)\n",
    "\n",
    "# Quita filas donde haya NaNs\n",
    "mask = ~np.isnan(y) & ~np.isnan(y_pred1)\n",
    "y_clean = y[mask]\n",
    "y_pred1_clean = y_pred1[mask]"
   ]
  },
  {
   "cell_type": "code",
   "execution_count": null,
   "id": "734e2d3b",
   "metadata": {},
   "outputs": [],
   "source": [
    "from sklearn.metrics import r2_score\n",
    "\n",
    "R2_Modelo1 = r2_score(y_clean, y_pred1_clean)\n",
    "print(R2_Modelo1)"
   ]
  },
  {
   "cell_type": "code",
   "execution_count": null,
   "id": "7bf9405a",
   "metadata": {},
   "outputs": [],
   "source": [
    "#Calculamos el coeficiente de determinacion del modelo\n",
    "R2_Modelo1 = r2_score(y, y_pred1) \n",
    "R2_Modelo1"
   ]
  },
  {
   "cell_type": "markdown",
   "id": "37d48aae",
   "metadata": {},
   "source": [
    "## Modelo 4"
   ]
  },
  {
   "cell_type": "code",
   "execution_count": null,
   "id": "67080fe9",
   "metadata": {},
   "outputs": [],
   "source": [
    "#Declaramos las variables dependientes e independientes para la regresión No lineal\n",
    "Vars_Indep= df['tiempo de lección']\n",
    "Var_Dep= df['dificultad']"
   ]
  },
  {
   "cell_type": "code",
   "execution_count": null,
   "id": "49c8d29b",
   "metadata": {},
   "outputs": [],
   "source": [
    "#Redefinimos las variables\n",
    "x= Vars_Indep\n",
    "y= Var_Dep\n",
    "\n",
    "# Funcion de valor absoluto\n",
    "def func1(x, a, b, c):\n",
    "    return a*x**2 + b*x + c\n",
    "\n",
    "# Función cuadrática\n",
    "#def func1(x, a, b, c):\n",
    "    #return a * x**2 + b * x + c\n",
    "\n",
    "# Función exponencial\n",
    "#def func1(x, a, b, c):\n",
    "    #return a * np.exp(-b * x) + c\n",
    "\n",
    "# Función inversa\n",
    "#def func1(x, a):\n",
    "    #return 1 / (a * x)\n",
    "\n",
    "# Función senoidal\n",
    "#def func1(x, a, b):\n",
    "    #return a * np.sin(x) + b\n",
    "\n",
    "# Función tangencial\n",
    "#def func1(x, a, b):\n",
    "    #return a * np.tan(x) + b\n",
    "\n",
    "# Función valor absoluto\n",
    "#def func1(x, a, b, c):\n",
    "    #return a * np.abs(x) + b * x + c\n",
    "\n",
    "# Función cociente entre polinomios\n",
    "#def func7(x, a, b, c):\n",
    "    #return (a * x**2 + b) / (c * x)\n",
    "#corr = 18.24%\n",
    "\n",
    "# Función logarítmica\n",
    "#def func1(x, a, b):\n",
    "    #return a * np.log(x) + b\n",
    "\n",
    "# Función lineal con producto de coeficientes\n",
    "#def func1(x, a, b, c):\n",
    "    #return a * x + b * x + c * x  # Simplifica a: (a + b + c) * x\n",
    "\n",
    "# Función cuadrática inversa\n",
    "#def func1(x, a):\n",
    "    #return 1 / (a * x**2)\n",
    "\n",
    "# Función polinomial inversa\n",
    "#def func1(x, a, b, c):\n",
    "    #return (a / b) * x**2 + c * x\n",
    "\n",
    "#Ajustamos los paramteros de la funcion curve_fit\n",
    "parametros1, covs = curve_fit(func1, df['tiempo de lección'], df['dificultad'])\n",
    "\n",
    "#Obtenemos los coeficientes del modelo de regresion no lineal\n",
    "parametros1\n",
    "\n",
    "#Predicciones \n",
    "y_pred1 = func1(x, *parametros1)\n",
    "\n",
    "y_pred1"
   ]
  },
  {
   "cell_type": "code",
   "execution_count": null,
   "id": "4fe4c262",
   "metadata": {},
   "outputs": [],
   "source": [
    "#Graficamos las predicciones y los datos originales para realizar la comparación\n",
    "plt.plot(x, y, 'bo', label=\"y-original\")\n",
    "plt.plot(x, y_pred1, label=\"y-predecida con y=a*x^2+b*x+c\")\n",
    "plt.xlabel('x')\n",
    "plt.ylabel('y')\n",
    "plt.legend(loc='best', fancybox=True, shadow=True)\n",
    "plt.grid(True)\n",
    "plt.show()"
   ]
  },
  {
   "cell_type": "code",
   "execution_count": null,
   "id": "e7cd669a",
   "metadata": {},
   "outputs": [],
   "source": [
    "print(\"Inf en y:\", np.isinf(y).any())\n",
    "print(\"NaN en y:\", np.isnan(y).any())\n",
    "print(\"Inf en y_pred1:\", np.isinf(y_pred1).any())\n",
    "print(\"NaN en y_pred1:\", np.isnan(y_pred1).any())"
   ]
  },
  {
   "cell_type": "code",
   "execution_count": null,
   "id": "0b9d1498",
   "metadata": {},
   "outputs": [],
   "source": [
    "# Reemplaza inf por NaN\n",
    "y = np.where(np.isinf(y), np.nan, y)\n",
    "y_pred1 = np.where(np.isinf(y_pred1), np.nan, y_pred1)\n",
    "\n",
    "# Quita filas donde haya NaNs\n",
    "mask = ~np.isnan(y) & ~np.isnan(y_pred1)\n",
    "y_clean = y[mask]\n",
    "y_pred1_clean = y_pred1[mask]"
   ]
  },
  {
   "cell_type": "code",
   "execution_count": null,
   "id": "e7591e72",
   "metadata": {},
   "outputs": [],
   "source": [
    "from sklearn.metrics import r2_score\n",
    "\n",
    "R2_Modelo1 = r2_score(y_clean, y_pred1_clean)\n",
    "print(R2_Modelo1)"
   ]
  },
  {
   "cell_type": "code",
   "execution_count": null,
   "id": "2c395877",
   "metadata": {},
   "outputs": [],
   "source": [
    "#Calculamos el coeficiente de determinacion del modelo\n",
    "R2_Modelo1 = r2_score(y, y_pred1) \n",
    "R2_Modelo1"
   ]
  },
  {
   "cell_type": "markdown",
   "id": "e7109256",
   "metadata": {},
   "source": [
    "## Heatmap"
   ]
  },
  {
   "cell_type": "code",
   "execution_count": null,
   "id": "d8b675da",
   "metadata": {},
   "outputs": [],
   "source": [
    "ordinales = ['administrador', 'usuario', 'presionó botón correcto', 'mini juego', 'color presionado', 'dificultad', 'juego', 'auto push']"
   ]
  },
  {
   "cell_type": "code",
   "execution_count": null,
   "id": "1cdb53cf",
   "metadata": {},
   "outputs": [],
   "source": [
    "df1 = df.copy()"
   ]
  },
  {
   "cell_type": "code",
   "execution_count": null,
   "id": "6cb8a68a",
   "metadata": {},
   "outputs": [],
   "source": [
    "df1=df.drop(columns=['administrador', 'usuario', 'dificultad', 'juego'])"
   ]
  },
  {
   "cell_type": "code",
   "execution_count": null,
   "id": "188500b1",
   "metadata": {},
   "outputs": [],
   "source": [
    "for col in ordinales:\n",
    "    frecuencia = df[col].value_counts().index \n",
    "    df1[col] = df[col].apply(lambda x: frecuencia.get_loc(x) + 1) \n",
    "                                                                 \n",
    "df1"
   ]
  },
  {
   "cell_type": "code",
   "execution_count": null,
   "id": "cf338363",
   "metadata": {},
   "outputs": [],
   "source": [
    "# Exportar el dataframe del Filtro Jesus Alejandro\n",
    "df1.to_csv('Iker Benjamin.csv', index=False)"
   ]
  },
  {
   "cell_type": "code",
   "execution_count": null,
   "id": "897a319e",
   "metadata": {},
   "outputs": [],
   "source": [
    "frecuencias_por_columna = {col: df1[col].value_counts() for col in df1.columns}\n",
    "frecuencias_por_columna"
   ]
  },
  {
   "cell_type": "code",
   "execution_count": null,
   "id": "418c5b2c",
   "metadata": {},
   "outputs": [],
   "source": [
    "Corr_Factors= df1.corr()\n",
    "Corr_Factors"
   ]
  },
  {
   "cell_type": "code",
   "execution_count": null,
   "id": "a9eeaeb4",
   "metadata": {},
   "outputs": [],
   "source": [
    "corr_Factors1= abs(Corr_Factors)\n",
    "corr_Factors1"
   ]
  },
  {
   "cell_type": "code",
   "execution_count": null,
   "id": "83c1767f",
   "metadata": {},
   "outputs": [],
   "source": [
    "fig, ax = plt.subplots(figsize=(20, 15))\n",
    "cax = ax.matshow(corr_Factors1, cmap=\"Blues\")\n",
    "fig.colorbar(cax)\n",
    "\n",
    "# Añadir anotaciones manualmente\n",
    "for i in range(corr_Factors1.shape[0]):\n",
    "    for j in range(corr_Factors1.shape[1]):\n",
    "        ax.text(j, i, f\"{corr_Factors1.iloc[i, j]:.2f}\", \n",
    "               ha=\"center\", va=\"center\", fontsize=20)\n",
    "\n",
    "plt.xticks(range(len(corr_Factors1.columns)), corr_Factors1.columns, rotation=90, fontsize=12)\n",
    "plt.yticks(range(len(corr_Factors1.index)), corr_Factors1.index, fontsize=12)\n",
    "plt.show()"
   ]
  },
  {
   "cell_type": "code",
   "execution_count": null,
   "id": "71a43ca6",
   "metadata": {},
   "outputs": [],
   "source": []
  },
  {
   "cell_type": "code",
   "execution_count": null,
   "id": "673477f2",
   "metadata": {},
   "outputs": [],
   "source": []
  },
  {
   "cell_type": "code",
   "execution_count": null,
   "id": "5b16e096",
   "metadata": {},
   "outputs": [],
   "source": []
  }
 ],
 "metadata": {
  "kernelspec": {
   "display_name": "Python 3",
   "language": "python",
   "name": "python3"
  },
  "language_info": {
   "codemirror_mode": {
    "name": "ipython",
    "version": 3
   },
   "file_extension": ".py",
   "mimetype": "text/x-python",
   "name": "python",
   "nbconvert_exporter": "python",
   "pygments_lexer": "ipython3",
   "version": "3.13.2"
  }
 },
 "nbformat": 4,
 "nbformat_minor": 5
}
